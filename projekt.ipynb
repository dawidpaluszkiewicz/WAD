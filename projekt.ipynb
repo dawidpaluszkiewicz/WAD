{
 "cells": [
  {
   "cell_type": "markdown",
   "id": "b5e68f28",
   "metadata": {},
   "source": [
    "# ANALIZA WIELOWYMIAROWA\n",
    "\n",
    "### Celem tej pracy jest ocena czynnikow mogących wpływać na poczucie szczęścia w danym kraju.\n",
    "### W tym celu przeporwadze 3 analizy\n",
    "- Analize skupień\n",
    "- Analize PCA\n",
    "- Porządkowanie liniowe\n",
    "\n",
    "### Dane które mi do tego posłużą zawieraja poniższe informacje.\n",
    "\n",
    "- Adjusted net national income per capita (current US$)\n",
    "- Adjusted savings: gross savings (% of GNI)\n",
    "- Age dependency ratio (% of working-age population)\n",
    "- Birth rate, crude (per 1,000 people)\n",
    "- Consumer price index (2010 = 100)\n",
    "- Death rate, crude (per 1,000 people)\n",
    "- Employers, total (% of total employment) (modeled ILO estimate)\n",
    "- Forest area (% of land area)\n",
    "- GDP (current US$)\n",
    "- GDP growth (annual %)\n",
    "- GDP per capita (current US$)',\n",
    "- GDP per capita, PPP (current international $)\n",
    "- Individuals using the Internet (% of population)\n",
    "- Inflation, consumer prices (annual %)\n",
    "- Land area (sq. km)\n",
    "- Life expectancy at birth, total (years)\n",
    "- Population growth (annual %)\n",
    "- Self-employed, total (% of total employment) (modeled ILO estimate)\n",
    "- Total alcohol consumption per capita (liters of pure alcohol, projected estimates, 15+ years of age)\n",
    "- Unemployment, total (% of total labor force) (national estimate)\n",
    "- Urban population (% of total population)\n",
    "\n",
    "\n",
    "### Lista krajów: Albania, Austria, Belarus, Belgium, Bulgaria, Czech Republic, Croatia, Denmark, Estonia, Finland, France, Germany, Greece, Hungary, Iceland, Ireland, Italy, Latvia, Lithuania, Luxembourg, Norway, Poland, Slovenia, Slovak Republic, Switzerland, Ukraine, United Kingdom\n",
    "\n",
    "\n",
    "\n",
    "\n",
    "<p style='font-size:15px'>Wszytkie dane użyte w analizach pochodzą z https://databank.worldbank.org/source/world-development-indicators </p>"
   ]
  },
  {
   "cell_type": "code",
   "execution_count": 1,
   "id": "8c32363e",
   "metadata": {},
   "outputs": [],
   "source": [
    "import pandas as pd\n",
    "import numpy as np\n",
    "import matplotlib.pyplot as plt\n",
    "import seaborn as sns\n",
    "import sklearn as skl\n",
    "\n",
    "import warnings\n",
    "\n",
    "warnings.simplefilter(\"ignore\")\n",
    "pd.set_option(\"display.max_columns\", None)"
   ]
  },
  {
   "cell_type": "code",
   "execution_count": 2,
   "id": "3aabe41e",
   "metadata": {},
   "outputs": [],
   "source": [
    "data = pd.read_csv('data.csv')"
   ]
  },
  {
   "cell_type": "code",
   "execution_count": 3,
   "metadata": {},
   "outputs": [],
   "source": [
    "# data cleaning, removing nans, reshaping the table etc\n",
    "\n",
    "data.columns = ['country_name', 'country_code', 'features', 'unk', 'values']\n",
    "data = data[['country_code', 'features', 'values']]\n",
    "data['values'] = data['values'].map(lambda x: float(x) if x != '..' else np.nan)\n",
    "data = data.dropna()\n",
    "data = data.pivot_table(index='country_code', columns=['features'],values=['values'])\n",
    "data = data.dropna(axis=1)\n",
    "\n",
    "data.columns = data.columns.droplevel(0)\n",
    "data.columns.name = None\n",
    "df = data     "
   ]
  },
  {
   "cell_type": "code",
   "execution_count": 4,
   "id": "9f867343",
   "metadata": {},
   "outputs": [
    {
     "data": {
      "text/html": [
       "<div>\n",
       "<style scoped>\n",
       "    .dataframe tbody tr th:only-of-type {\n",
       "        vertical-align: middle;\n",
       "    }\n",
       "\n",
       "    .dataframe tbody tr th {\n",
       "        vertical-align: top;\n",
       "    }\n",
       "\n",
       "    .dataframe thead th {\n",
       "        text-align: right;\n",
       "    }\n",
       "</style>\n",
       "<table border=\"1\" class=\"dataframe\">\n",
       "  <thead>\n",
       "    <tr style=\"text-align: right;\">\n",
       "      <th></th>\n",
       "      <th>Access to electricity (% of population)</th>\n",
       "      <th>Adjusted net national income per capita (current US$)</th>\n",
       "      <th>Adjusted savings: gross savings (% of GNI)</th>\n",
       "      <th>Age dependency ratio (% of working-age population)</th>\n",
       "      <th>Birth rate, crude (per 1,000 people)</th>\n",
       "      <th>Consumer price index (2010 = 100)</th>\n",
       "      <th>Death rate, crude (per 1,000 people)</th>\n",
       "      <th>Employers, total (% of total employment) (modeled ILO estimate)</th>\n",
       "      <th>Forest area (% of land area)</th>\n",
       "      <th>GDP (current US$)</th>\n",
       "      <th>GDP growth (annual %)</th>\n",
       "      <th>GDP per capita (current US$)</th>\n",
       "      <th>GDP per capita, PPP (current international $)</th>\n",
       "      <th>Individuals using the Internet (% of population)</th>\n",
       "      <th>Inflation, consumer prices (annual %)</th>\n",
       "      <th>Land area (sq. km)</th>\n",
       "      <th>Life expectancy at birth, total (years)</th>\n",
       "      <th>Population growth (annual %)</th>\n",
       "      <th>Self-employed, total (% of total employment) (modeled ILO estimate)</th>\n",
       "      <th>Total alcohol consumption per capita (liters of pure alcohol, projected estimates, 15+ years of age)</th>\n",
       "      <th>Unemployment, total (% of total labor force) (modeled ILO estimate)</th>\n",
       "      <th>Unemployment, total (% of total labor force) (national estimate)</th>\n",
       "      <th>Urban population (% of total population)</th>\n",
       "    </tr>\n",
       "    <tr>\n",
       "      <th>country_code</th>\n",
       "      <th></th>\n",
       "      <th></th>\n",
       "      <th></th>\n",
       "      <th></th>\n",
       "      <th></th>\n",
       "      <th></th>\n",
       "      <th></th>\n",
       "      <th></th>\n",
       "      <th></th>\n",
       "      <th></th>\n",
       "      <th></th>\n",
       "      <th></th>\n",
       "      <th></th>\n",
       "      <th></th>\n",
       "      <th></th>\n",
       "      <th></th>\n",
       "      <th></th>\n",
       "      <th></th>\n",
       "      <th></th>\n",
       "      <th></th>\n",
       "      <th></th>\n",
       "      <th></th>\n",
       "      <th></th>\n",
       "    </tr>\n",
       "  </thead>\n",
       "  <tbody>\n",
       "    <tr>\n",
       "      <th>ALB</th>\n",
       "      <td>100.0</td>\n",
       "      <td>4326.330596</td>\n",
       "      <td>16.830870</td>\n",
       "      <td>45.810037</td>\n",
       "      <td>11.78</td>\n",
       "      <td>117.392740</td>\n",
       "      <td>7.898</td>\n",
       "      <td>3.29</td>\n",
       "      <td>28.791971</td>\n",
       "      <td>1.514702e+10</td>\n",
       "      <td>4.071301</td>\n",
       "      <td>5284.380184</td>\n",
       "      <td>13546.481686</td>\n",
       "      <td>65.400000</td>\n",
       "      <td>2.028060</td>\n",
       "      <td>27400.0</td>\n",
       "      <td>78.458000</td>\n",
       "      <td>-0.246732</td>\n",
       "      <td>55.48</td>\n",
       "      <td>7.17</td>\n",
       "      <td>12.30</td>\n",
       "      <td>12.30</td>\n",
       "      <td>60.319</td>\n",
       "    </tr>\n",
       "    <tr>\n",
       "      <th>AUT</th>\n",
       "      <td>100.0</td>\n",
       "      <td>41712.201266</td>\n",
       "      <td>27.118865</td>\n",
       "      <td>49.923940</td>\n",
       "      <td>9.70</td>\n",
       "      <td>116.277887</td>\n",
       "      <td>9.500</td>\n",
       "      <td>4.57</td>\n",
       "      <td>47.163960</td>\n",
       "      <td>4.548726e+11</td>\n",
       "      <td>2.580121</td>\n",
       "      <td>51453.147024</td>\n",
       "      <td>57050.351355</td>\n",
       "      <td>87.479137</td>\n",
       "      <td>1.998380</td>\n",
       "      <td>82520.0</td>\n",
       "      <td>81.692683</td>\n",
       "      <td>0.487072</td>\n",
       "      <td>12.01</td>\n",
       "      <td>11.96</td>\n",
       "      <td>4.85</td>\n",
       "      <td>4.85</td>\n",
       "      <td>58.297</td>\n",
       "    </tr>\n",
       "    <tr>\n",
       "      <th>BEL</th>\n",
       "      <td>100.0</td>\n",
       "      <td>39098.085540</td>\n",
       "      <td>24.520778</td>\n",
       "      <td>55.870466</td>\n",
       "      <td>10.40</td>\n",
       "      <td>115.451626</td>\n",
       "      <td>9.700</td>\n",
       "      <td>3.79</td>\n",
       "      <td>22.764201</td>\n",
       "      <td>5.434107e+11</td>\n",
       "      <td>1.787920</td>\n",
       "      <td>47554.746308</td>\n",
       "      <td>52668.172441</td>\n",
       "      <td>88.647343</td>\n",
       "      <td>2.053165</td>\n",
       "      <td>30280.0</td>\n",
       "      <td>81.595122</td>\n",
       "      <td>0.455185</td>\n",
       "      <td>14.03</td>\n",
       "      <td>11.08</td>\n",
       "      <td>5.95</td>\n",
       "      <td>5.95</td>\n",
       "      <td>98.001</td>\n",
       "    </tr>\n",
       "    <tr>\n",
       "      <th>BGR</th>\n",
       "      <td>100.0</td>\n",
       "      <td>7747.240112</td>\n",
       "      <td>24.649621</td>\n",
       "      <td>55.321416</td>\n",
       "      <td>8.90</td>\n",
       "      <td>110.974059</td>\n",
       "      <td>15.400</td>\n",
       "      <td>3.72</td>\n",
       "      <td>35.620855</td>\n",
       "      <td>6.623016e+10</td>\n",
       "      <td>3.092448</td>\n",
       "      <td>9427.730430</td>\n",
       "      <td>22911.298354</td>\n",
       "      <td>64.782011</td>\n",
       "      <td>2.814545</td>\n",
       "      <td>108560.0</td>\n",
       "      <td>74.963415</td>\n",
       "      <td>-0.722080</td>\n",
       "      <td>11.65</td>\n",
       "      <td>12.65</td>\n",
       "      <td>5.21</td>\n",
       "      <td>5.21</td>\n",
       "      <td>75.008</td>\n",
       "    </tr>\n",
       "    <tr>\n",
       "      <th>BLR</th>\n",
       "      <td>100.0</td>\n",
       "      <td>4975.785814</td>\n",
       "      <td>30.281572</td>\n",
       "      <td>46.436664</td>\n",
       "      <td>9.90</td>\n",
       "      <td>481.390314</td>\n",
       "      <td>12.700</td>\n",
       "      <td>0.89</td>\n",
       "      <td>43.051532</td>\n",
       "      <td>6.003126e+10</td>\n",
       "      <td>3.149198</td>\n",
       "      <td>6330.075246</td>\n",
       "      <td>19338.666438</td>\n",
       "      <td>79.129887</td>\n",
       "      <td>4.872302</td>\n",
       "      <td>202980.0</td>\n",
       "      <td>74.175610</td>\n",
       "      <td>-0.155570</td>\n",
       "      <td>4.18</td>\n",
       "      <td>11.45</td>\n",
       "      <td>4.76</td>\n",
       "      <td>4.76</td>\n",
       "      <td>78.595</td>\n",
       "    </tr>\n",
       "  </tbody>\n",
       "</table>\n",
       "</div>"
      ],
      "text/plain": [
       "              Access to electricity (% of population)  \\\n",
       "country_code                                            \n",
       "ALB                                             100.0   \n",
       "AUT                                             100.0   \n",
       "BEL                                             100.0   \n",
       "BGR                                             100.0   \n",
       "BLR                                             100.0   \n",
       "\n",
       "              Adjusted net national income per capita (current US$)  \\\n",
       "country_code                                                          \n",
       "ALB                                                 4326.330596       \n",
       "AUT                                                41712.201266       \n",
       "BEL                                                39098.085540       \n",
       "BGR                                                 7747.240112       \n",
       "BLR                                                 4975.785814       \n",
       "\n",
       "              Adjusted savings: gross savings (% of GNI)  \\\n",
       "country_code                                               \n",
       "ALB                                            16.830870   \n",
       "AUT                                            27.118865   \n",
       "BEL                                            24.520778   \n",
       "BGR                                            24.649621   \n",
       "BLR                                            30.281572   \n",
       "\n",
       "              Age dependency ratio (% of working-age population)  \\\n",
       "country_code                                                       \n",
       "ALB                                                   45.810037    \n",
       "AUT                                                   49.923940    \n",
       "BEL                                                   55.870466    \n",
       "BGR                                                   55.321416    \n",
       "BLR                                                   46.436664    \n",
       "\n",
       "              Birth rate, crude (per 1,000 people)  \\\n",
       "country_code                                         \n",
       "ALB                                          11.78   \n",
       "AUT                                           9.70   \n",
       "BEL                                          10.40   \n",
       "BGR                                           8.90   \n",
       "BLR                                           9.90   \n",
       "\n",
       "              Consumer price index (2010 = 100)  \\\n",
       "country_code                                      \n",
       "ALB                                  117.392740   \n",
       "AUT                                  116.277887   \n",
       "BEL                                  115.451626   \n",
       "BGR                                  110.974059   \n",
       "BLR                                  481.390314   \n",
       "\n",
       "              Death rate, crude (per 1,000 people)  \\\n",
       "country_code                                         \n",
       "ALB                                          7.898   \n",
       "AUT                                          9.500   \n",
       "BEL                                          9.700   \n",
       "BGR                                         15.400   \n",
       "BLR                                         12.700   \n",
       "\n",
       "              Employers, total (% of total employment) (modeled ILO estimate)  \\\n",
       "country_code                                                                    \n",
       "ALB                                                        3.29                 \n",
       "AUT                                                        4.57                 \n",
       "BEL                                                        3.79                 \n",
       "BGR                                                        3.72                 \n",
       "BLR                                                        0.89                 \n",
       "\n",
       "              Forest area (% of land area)  GDP (current US$)  \\\n",
       "country_code                                                    \n",
       "ALB                              28.791971       1.514702e+10   \n",
       "AUT                              47.163960       4.548726e+11   \n",
       "BEL                              22.764201       5.434107e+11   \n",
       "BGR                              35.620855       6.623016e+10   \n",
       "BLR                              43.051532       6.003126e+10   \n",
       "\n",
       "              GDP growth (annual %)  GDP per capita (current US$)  \\\n",
       "country_code                                                        \n",
       "ALB                        4.071301                   5284.380184   \n",
       "AUT                        2.580121                  51453.147024   \n",
       "BEL                        1.787920                  47554.746308   \n",
       "BGR                        3.092448                   9427.730430   \n",
       "BLR                        3.149198                   6330.075246   \n",
       "\n",
       "              GDP per capita, PPP (current international $)  \\\n",
       "country_code                                                  \n",
       "ALB                                            13546.481686   \n",
       "AUT                                            57050.351355   \n",
       "BEL                                            52668.172441   \n",
       "BGR                                            22911.298354   \n",
       "BLR                                            19338.666438   \n",
       "\n",
       "              Individuals using the Internet (% of population)  \\\n",
       "country_code                                                     \n",
       "ALB                                                  65.400000   \n",
       "AUT                                                  87.479137   \n",
       "BEL                                                  88.647343   \n",
       "BGR                                                  64.782011   \n",
       "BLR                                                  79.129887   \n",
       "\n",
       "              Inflation, consumer prices (annual %)  Land area (sq. km)  \\\n",
       "country_code                                                              \n",
       "ALB                                        2.028060             27400.0   \n",
       "AUT                                        1.998380             82520.0   \n",
       "BEL                                        2.053165             30280.0   \n",
       "BGR                                        2.814545            108560.0   \n",
       "BLR                                        4.872302            202980.0   \n",
       "\n",
       "              Life expectancy at birth, total (years)  \\\n",
       "country_code                                            \n",
       "ALB                                         78.458000   \n",
       "AUT                                         81.692683   \n",
       "BEL                                         81.595122   \n",
       "BGR                                         74.963415   \n",
       "BLR                                         74.175610   \n",
       "\n",
       "              Population growth (annual %)  \\\n",
       "country_code                                 \n",
       "ALB                              -0.246732   \n",
       "AUT                               0.487072   \n",
       "BEL                               0.455185   \n",
       "BGR                              -0.722080   \n",
       "BLR                              -0.155570   \n",
       "\n",
       "              Self-employed, total (% of total employment) (modeled ILO estimate)  \\\n",
       "country_code                                                                        \n",
       "ALB                                                       55.48                     \n",
       "AUT                                                       12.01                     \n",
       "BEL                                                       14.03                     \n",
       "BGR                                                       11.65                     \n",
       "BLR                                                        4.18                     \n",
       "\n",
       "              Total alcohol consumption per capita (liters of pure alcohol, projected estimates, 15+ years of age)  \\\n",
       "country_code                                                                                                         \n",
       "ALB                                                        7.17                                                      \n",
       "AUT                                                       11.96                                                      \n",
       "BEL                                                       11.08                                                      \n",
       "BGR                                                       12.65                                                      \n",
       "BLR                                                       11.45                                                      \n",
       "\n",
       "              Unemployment, total (% of total labor force) (modeled ILO estimate)  \\\n",
       "country_code                                                                        \n",
       "ALB                                                       12.30                     \n",
       "AUT                                                        4.85                     \n",
       "BEL                                                        5.95                     \n",
       "BGR                                                        5.21                     \n",
       "BLR                                                        4.76                     \n",
       "\n",
       "              Unemployment, total (% of total labor force) (national estimate)  \\\n",
       "country_code                                                                     \n",
       "ALB                                                       12.30                  \n",
       "AUT                                                        4.85                  \n",
       "BEL                                                        5.95                  \n",
       "BGR                                                        5.21                  \n",
       "BLR                                                        4.76                  \n",
       "\n",
       "              Urban population (% of total population)  \n",
       "country_code                                            \n",
       "ALB                                             60.319  \n",
       "AUT                                             58.297  \n",
       "BEL                                             98.001  \n",
       "BGR                                             75.008  \n",
       "BLR                                             78.595  "
      ]
     },
     "execution_count": 4,
     "metadata": {},
     "output_type": "execute_result"
    }
   ],
   "source": [
    "df.head()"
   ]
  },
  {
   "cell_type": "code",
   "execution_count": 5,
   "id": "78b4bdd1",
   "metadata": {},
   "outputs": [
    {
     "data": {
      "text/plain": [
       "Index(['Access to electricity (% of population)',\n",
       "       'Adjusted net national income per capita (current US$)',\n",
       "       'Adjusted savings: gross savings (% of GNI)',\n",
       "       'Age dependency ratio (% of working-age population)',\n",
       "       'Birth rate, crude (per 1,000 people)',\n",
       "       'Consumer price index (2010 = 100)',\n",
       "       'Death rate, crude (per 1,000 people)',\n",
       "       'Employers, total (% of total employment) (modeled ILO estimate)',\n",
       "       'Forest area (% of land area)', 'GDP (current US$)',\n",
       "       'GDP growth (annual %)', 'GDP per capita (current US$)',\n",
       "       'GDP per capita, PPP (current international $)',\n",
       "       'Individuals using the Internet (% of population)',\n",
       "       'Inflation, consumer prices (annual %)', 'Land area (sq. km)',\n",
       "       'Life expectancy at birth, total (years)',\n",
       "       'Population growth (annual %)',\n",
       "       'Self-employed, total (% of total employment) (modeled ILO estimate)',\n",
       "       'Total alcohol consumption per capita (liters of pure alcohol, projected estimates, 15+ years of age)',\n",
       "       'Unemployment, total (% of total labor force) (modeled ILO estimate)',\n",
       "       'Unemployment, total (% of total labor force) (national estimate)',\n",
       "       'Urban population (% of total population)'],\n",
       "      dtype='object')"
      ]
     },
     "execution_count": 5,
     "metadata": {},
     "output_type": "execute_result"
    }
   ],
   "source": [
    "df.columns"
   ]
  },
  {
   "cell_type": "code",
   "execution_count": 6,
   "id": "1ae0b818",
   "metadata": {},
   "outputs": [],
   "source": [
    "# raname the columns to more friendly format\n",
    "df.columns = [\n",
    "    'electricity_access',\n",
    "    'adj_income_per_cap',\n",
    "    'adj_savings',\n",
    "    'age_dependency_ratio',\n",
    "    'birth_rate_per_1000',\n",
    "    'consumer_price_index',\n",
    "    'death_rate_per_1000',\n",
    "    'employers_ratio_to_employment',\n",
    "    'forest_area_in_percent',\n",
    "    'gpd',\n",
    "    'gpd_growth_in_usd',\n",
    "    'gpd_per_capita',\n",
    "    'gpd_per_capita_ppp',\n",
    "    'percentage_using_internet',\n",
    "    'inflation',\n",
    "    'land_area_squared_km',\n",
    "    'life_expectency',\n",
    "    'population_growth',\n",
    "    'self_employment_ratio',\n",
    "    'alcohol_consumption',\n",
    "    'unemployment_1',\n",
    "    'unemployment_2',\n",
    "    'urban_population_percentage'\n",
    "]\n",
    "\n",
    "cols_to_use = ['adj_income_per_cap', 'age_dependency_ratio', 'birth_rate_per_1000', 'consumer_price_index', 'forest_area_in_percent', 'inflation', 'life_expectency' , 'alcohol_consumption', 'unemployment_1', 'gpd_growth_in_usd', 'gpd_per_capita_ppp', 'population_growth', 'urban_population_percentage']\n",
    "\n",
    "df = df[cols_to_use]"
   ]
  },
  {
   "cell_type": "markdown",
   "id": "ab08d191",
   "metadata": {},
   "source": [
    "## Poniżej znajduje sie tabela z podstawownymi statystykami opisującymi cechy"
   ]
  },
  {
   "cell_type": "code",
   "execution_count": 7,
   "id": "e15802f4",
   "metadata": {},
   "outputs": [
    {
     "data": {
      "text/html": [
       "<div>\n",
       "<style scoped>\n",
       "    .dataframe tbody tr th:only-of-type {\n",
       "        vertical-align: middle;\n",
       "    }\n",
       "\n",
       "    .dataframe tbody tr th {\n",
       "        vertical-align: top;\n",
       "    }\n",
       "\n",
       "    .dataframe thead th {\n",
       "        text-align: right;\n",
       "    }\n",
       "</style>\n",
       "<table border=\"1\" class=\"dataframe\">\n",
       "  <thead>\n",
       "    <tr style=\"text-align: right;\">\n",
       "      <th></th>\n",
       "      <th>adj_income_per_cap</th>\n",
       "      <th>age_dependency_ratio</th>\n",
       "      <th>birth_rate_per_1000</th>\n",
       "      <th>consumer_price_index</th>\n",
       "      <th>forest_area_in_percent</th>\n",
       "      <th>inflation</th>\n",
       "      <th>life_expectency</th>\n",
       "      <th>alcohol_consumption</th>\n",
       "      <th>unemployment_1</th>\n",
       "      <th>gpd_growth_in_usd</th>\n",
       "      <th>gpd_per_capita_ppp</th>\n",
       "      <th>population_growth</th>\n",
       "      <th>urban_population_percentage</th>\n",
       "    </tr>\n",
       "  </thead>\n",
       "  <tbody>\n",
       "    <tr>\n",
       "      <th>count</th>\n",
       "      <td>27.000000</td>\n",
       "      <td>27.000000</td>\n",
       "      <td>27.000000</td>\n",
       "      <td>27.000000</td>\n",
       "      <td>27.000000</td>\n",
       "      <td>27.000000</td>\n",
       "      <td>27.000000</td>\n",
       "      <td>27.000000</td>\n",
       "      <td>27.000000</td>\n",
       "      <td>27.000000</td>\n",
       "      <td>27.000000</td>\n",
       "      <td>27.000000</td>\n",
       "      <td>27.000000</td>\n",
       "    </tr>\n",
       "    <tr>\n",
       "      <th>mean</th>\n",
       "      <td>29026.687219</td>\n",
       "      <td>52.826809</td>\n",
       "      <td>10.062222</td>\n",
       "      <td>131.680093</td>\n",
       "      <td>33.555086</td>\n",
       "      <td>2.366278</td>\n",
       "      <td>79.526168</td>\n",
       "      <td>11.009630</td>\n",
       "      <td>6.370741</td>\n",
       "      <td>3.182162</td>\n",
       "      <td>44820.656085</td>\n",
       "      <td>0.238527</td>\n",
       "      <td>73.429741</td>\n",
       "    </tr>\n",
       "    <tr>\n",
       "      <th>std</th>\n",
       "      <td>19577.793312</td>\n",
       "      <td>4.587191</td>\n",
       "      <td>1.179861</td>\n",
       "      <td>75.694065</td>\n",
       "      <td>15.935943</td>\n",
       "      <td>1.955062</td>\n",
       "      <td>3.307580</td>\n",
       "      <td>1.904069</td>\n",
       "      <td>3.501665</td>\n",
       "      <td>1.769597</td>\n",
       "      <td>22420.817780</td>\n",
       "      <td>0.802098</td>\n",
       "      <td>12.080767</td>\n",
       "    </tr>\n",
       "    <tr>\n",
       "      <th>min</th>\n",
       "      <td>2782.196609</td>\n",
       "      <td>42.983574</td>\n",
       "      <td>7.300000</td>\n",
       "      <td>99.186961</td>\n",
       "      <td>0.496281</td>\n",
       "      <td>0.488370</td>\n",
       "      <td>71.582683</td>\n",
       "      <td>7.170000</td>\n",
       "      <td>2.240000</td>\n",
       "      <td>0.941737</td>\n",
       "      <td>12634.235554</td>\n",
       "      <td>-0.954190</td>\n",
       "      <td>53.726000</td>\n",
       "    </tr>\n",
       "    <tr>\n",
       "      <th>25%</th>\n",
       "      <td>13487.117994</td>\n",
       "      <td>50.188600</td>\n",
       "      <td>9.450000</td>\n",
       "      <td>109.734264</td>\n",
       "      <td>25.778086</td>\n",
       "      <td>1.514160</td>\n",
       "      <td>77.434146</td>\n",
       "      <td>9.705000</td>\n",
       "      <td>4.355000</td>\n",
       "      <td>1.826493</td>\n",
       "      <td>31178.480564</td>\n",
       "      <td>-0.196472</td>\n",
       "      <td>65.424500</td>\n",
       "    </tr>\n",
       "    <tr>\n",
       "      <th>50%</th>\n",
       "      <td>20805.995213</td>\n",
       "      <td>53.745318</td>\n",
       "      <td>10.200000</td>\n",
       "      <td>113.115843</td>\n",
       "      <td>32.683611</td>\n",
       "      <td>2.028060</td>\n",
       "      <td>80.953659</td>\n",
       "      <td>11.450000</td>\n",
       "      <td>5.370000</td>\n",
       "      <td>3.110836</td>\n",
       "      <td>41127.254047</td>\n",
       "      <td>0.274452</td>\n",
       "      <td>73.792000</td>\n",
       "    </tr>\n",
       "    <tr>\n",
       "      <th>75%</th>\n",
       "      <td>41297.296766</td>\n",
       "      <td>56.040042</td>\n",
       "      <td>10.650000</td>\n",
       "      <td>117.485902</td>\n",
       "      <td>38.279107</td>\n",
       "      <td>2.690423</td>\n",
       "      <td>82.021951</td>\n",
       "      <td>12.490000</td>\n",
       "      <td>7.385000</td>\n",
       "      <td>4.047806</td>\n",
       "      <td>56002.599052</td>\n",
       "      <td>0.491455</td>\n",
       "      <td>81.346000</td>\n",
       "    </tr>\n",
       "    <tr>\n",
       "      <th>max</th>\n",
       "      <td>65957.408917</td>\n",
       "      <td>61.267145</td>\n",
       "      <td>12.500000</td>\n",
       "      <td>481.390314</td>\n",
       "      <td>73.733219</td>\n",
       "      <td>10.951856</td>\n",
       "      <td>83.753659</td>\n",
       "      <td>14.450000</td>\n",
       "      <td>19.290000</td>\n",
       "      <td>9.030161</td>\n",
       "      <td>116644.848056</td>\n",
       "      <td>2.678143</td>\n",
       "      <td>98.001000</td>\n",
       "    </tr>\n",
       "  </tbody>\n",
       "</table>\n",
       "</div>"
      ],
      "text/plain": [
       "       adj_income_per_cap  age_dependency_ratio  birth_rate_per_1000  \\\n",
       "count           27.000000             27.000000            27.000000   \n",
       "mean         29026.687219             52.826809            10.062222   \n",
       "std          19577.793312              4.587191             1.179861   \n",
       "min           2782.196609             42.983574             7.300000   \n",
       "25%          13487.117994             50.188600             9.450000   \n",
       "50%          20805.995213             53.745318            10.200000   \n",
       "75%          41297.296766             56.040042            10.650000   \n",
       "max          65957.408917             61.267145            12.500000   \n",
       "\n",
       "       consumer_price_index  forest_area_in_percent  inflation  \\\n",
       "count             27.000000               27.000000  27.000000   \n",
       "mean             131.680093               33.555086   2.366278   \n",
       "std               75.694065               15.935943   1.955062   \n",
       "min               99.186961                0.496281   0.488370   \n",
       "25%              109.734264               25.778086   1.514160   \n",
       "50%              113.115843               32.683611   2.028060   \n",
       "75%              117.485902               38.279107   2.690423   \n",
       "max              481.390314               73.733219  10.951856   \n",
       "\n",
       "       life_expectency  alcohol_consumption  unemployment_1  \\\n",
       "count        27.000000            27.000000       27.000000   \n",
       "mean         79.526168            11.009630        6.370741   \n",
       "std           3.307580             1.904069        3.501665   \n",
       "min          71.582683             7.170000        2.240000   \n",
       "25%          77.434146             9.705000        4.355000   \n",
       "50%          80.953659            11.450000        5.370000   \n",
       "75%          82.021951            12.490000        7.385000   \n",
       "max          83.753659            14.450000       19.290000   \n",
       "\n",
       "       gpd_growth_in_usd  gpd_per_capita_ppp  population_growth  \\\n",
       "count          27.000000           27.000000          27.000000   \n",
       "mean            3.182162        44820.656085           0.238527   \n",
       "std             1.769597        22420.817780           0.802098   \n",
       "min             0.941737        12634.235554          -0.954190   \n",
       "25%             1.826493        31178.480564          -0.196472   \n",
       "50%             3.110836        41127.254047           0.274452   \n",
       "75%             4.047806        56002.599052           0.491455   \n",
       "max             9.030161       116644.848056           2.678143   \n",
       "\n",
       "       urban_population_percentage  \n",
       "count                    27.000000  \n",
       "mean                     73.429741  \n",
       "std                      12.080767  \n",
       "min                      53.726000  \n",
       "25%                      65.424500  \n",
       "50%                      73.792000  \n",
       "75%                      81.346000  \n",
       "max                      98.001000  "
      ]
     },
     "execution_count": 7,
     "metadata": {},
     "output_type": "execute_result"
    }
   ],
   "source": [
    "df.describe()"
   ]
  },
  {
   "cell_type": "markdown",
   "id": "26d7f886",
   "metadata": {},
   "source": [
    "## Macież korelacji"
   ]
  },
  {
   "cell_type": "code",
   "execution_count": 8,
   "id": "478268a2",
   "metadata": {},
   "outputs": [
    {
     "data": {
      "text/plain": [
       "<AxesSubplot:>"
      ]
     },
     "execution_count": 8,
     "metadata": {},
     "output_type": "execute_result"
    },
    {
     "data": {
      "image/png": "[encoded data removed]",
      "text/plain": [
       "<Figure size 1440x1440 with 2 Axes>"
      ]
     },
     "metadata": {
      "needs_background": "light"
     },
     "output_type": "display_data"
    }
   ],
   "source": [
    "plt.figure(figsize=(20,20))\n",
    "\n",
    "sns.heatmap(df.corr(), annot=True)"
   ]
  },
  {
   "cell_type": "markdown",
   "id": "ac3502ea",
   "metadata": {},
   "source": [
    "# PCA"
   ]
  },
  {
   "cell_type": "code",
   "execution_count": 9,
   "id": "0d80c73c",
   "metadata": {},
   "outputs": [],
   "source": [
    "from sklearn.decomposition import PCA\n",
    "from sklearn.preprocessing import StandardScaler\n",
    "\n",
    "df_scaled = StandardScaler().fit_transform(df)\n",
    "\n",
    "pca = PCA()\n",
    "transformed = pca.fit_transform(df_scaled)"
   ]
  },
  {
   "cell_type": "code",
   "execution_count": 10,
   "id": "7698720b",
   "metadata": {},
   "outputs": [
    {
     "data": {
      "text/plain": [
       "0     0.335402\n",
       "1     0.518771\n",
       "2     0.651569\n",
       "3     0.750969\n",
       "4     0.824823\n",
       "5     0.871265\n",
       "6     0.912097\n",
       "7     0.940738\n",
       "8     0.963972\n",
       "9     0.980194\n",
       "10    0.994138\n",
       "11    0.997860\n",
       "12    1.000000\n",
       "dtype: float64"
      ]
     },
     "execution_count": 10,
     "metadata": {},
     "output_type": "execute_result"
    },
    {
     "data": {
      "image/png": "[encoded data removed]",
      "text/plain": [
       "<Figure size 1440x720 with 1 Axes>"
      ]
     },
     "metadata": {
      "needs_background": "light"
     },
     "output_type": "display_data"
    }
   ],
   "source": [
    "plt.figure(figsize=(20,10))\n",
    "plt.plot(range(1,14), pd.Series(pca.explained_variance_ratio_).cumsum())\n",
    "plt.xlabel('Czynnik')\n",
    "plt.ylabel('Wariancja wytlumaczona przez czynniki')\n",
    "pd.Series(pca.explained_variance_ratio_).cumsum()"
   ]
  },
  {
   "cell_type": "markdown",
   "id": "f4deefdc",
   "metadata": {},
   "source": [
    "## Na podstawie powyższych danych widzimy że 2 pierwsze składowe wyjaśnaiają 51% zmienności wszystkich cech"
   ]
  },
  {
   "cell_type": "code",
   "execution_count": 11,
   "id": "3bc2ad12",
   "metadata": {},
   "outputs": [
    {
     "data": {
      "image/png": "[encoded data removed]",
      "text/plain": [
       "<Figure size 1440x1440 with 1 Axes>"
      ]
     },
     "metadata": {
      "needs_background": "light"
     },
     "output_type": "display_data"
    }
   ],
   "source": [
    "def circleOfCorrelations(pc_infos, labels):\n",
    "\tplt.figure(figsize=(20,20))\n",
    "\tplt.Circle((0,0),radius=10, color='g', fill=False)\n",
    "\tcircle1=plt.Circle((0,0),radius=1, color='g', fill=False)\n",
    "\tfig = plt.gcf()\n",
    "\tfig.gca().add_artist(circle1)\n",
    "\n",
    "\tplt.plot([0.0,1.2],[0.0,0],'r')\n",
    "\tplt.plot([0.0,-1.2],[0.0,0],'r')\n",
    "\tplt.plot([0.0,0],[0.0,1.2],'r')\n",
    "\tplt.plot([0.0,0],[0.0,-1.2],'r')\n",
    "\tfor idx, idx2 in enumerate(pc_infos[\"PC-0\"]):\n",
    "\t\tx = pc_infos[\"PC-0\"][idx]\n",
    "\t\ty = pc_infos[\"PC-1\"][idx]\n",
    "\t\tplt.plot([0.0,x],[0.0,y],'k-')\n",
    "\t\tplt.plot(x, y, 'rx')\n",
    "\t\tplt.annotate(labels[idx], xy=(x,y))\n",
    "\tplt.xlabel(\"Czynnik 1\")\n",
    "\tplt.ylabel(\"Czynnik 2\")\n",
    "\tplt.xlim((-1.2,1.2))\n",
    "\tplt.ylim((-1.2,1.2))\n",
    "\tplt.title(\"Projekcja czynnikow\")\n",
    "\n",
    "pca = PCA(n_components=2)\n",
    "transformed = pca.fit_transform(df_scaled) \n",
    "x = pd.DataFrame(pca.components_.T)\n",
    "x.columns = ['PC-0', 'PC-1']\n",
    "circleOfCorrelations(x, df.columns)"
   ]
  },
  {
   "cell_type": "code",
   "execution_count": 12,
   "id": "73ab15ca",
   "metadata": {},
   "outputs": [
    {
     "data": {
      "image/png": "[encoded data removed]",
      "text/plain": [
       "<Figure size 1440x1440 with 1 Axes>"
      ]
     },
     "metadata": {
      "needs_background": "light"
     },
     "output_type": "display_data"
    }
   ],
   "source": [
    "\n",
    "plt.figure(figsize=(20,20))\n",
    "transformed = pd.DataFrame(transformed)\n",
    "transformed.columns=['partial_1', 'partial_2']\n",
    "transformed.index = df.index\n",
    "plt.scatter(transformed.partial_1, transformed.partial_2)\n",
    "\n",
    "for i, index in enumerate(transformed.index):\n",
    "    plt.annotate(index, (transformed.loc[index,'partial_1'], transformed.loc[index,'partial_2']))\n",
    "\n",
    "plt.grid()"
   ]
  },
  {
   "cell_type": "markdown",
   "id": "f53742f8",
   "metadata": {},
   "source": [
    "## Z powyższego wykresu widzimy ze wyodrębnia się 4 lub 5 klastrów.\n",
    "\n",
    "## Poniżej prezentuje projekcje 3 czynników w przestrzeni trójwymiarowej"
   ]
  },
  {
   "cell_type": "code",
   "execution_count": 13,
   "id": "add5ebe6",
   "metadata": {},
   "outputs": [
    {
     "data": {
      "application/vnd.plotly.v1+json": {
       "config": {
        "plotlyServerURL": "https://plot.ly"
       },
       "data": [
        {
         "hovertemplate": "country=ALB<br>partial_1=%{x}<br>partial_2=%{y}<br>partial_3=%{z}<extra></extra>",
         "legendgroup": "ALB",
         "marker": {
          "color": "#636efa",
          "symbol": "circle"
         },
         "mode": "markers",
         "name": "ALB",
         "scene": "scene",
         "showlegend": true,
         "type": "scatter3d",
         "x": [
          1.9841349960795784
         ],
         "y": [
          -0.5492612467459494
         ],
         "z": [
          0.026005217085090952
         ]
        },
        {
         "hovertemplate": "country=AUT<br>partial_1=%{x}<br>partial_2=%{y}<br>partial_3=%{z}<extra></extra>",
         "legendgroup": "AUT",
         "marker": {
          "color": "#EF553B",
          "symbol": "circle"
         },
         "mode": "markers",
         "name": "AUT",
         "scene": "scene",
         "showlegend": true,
         "type": "scatter3d",
         "x": [
          -0.5574620323872216
         ],
         "y": [
          0.08970818353929289
         ],
         "z": [
          -0.9487674849721204
         ]
        },
        {
         "hovertemplate": "country=BEL<br>partial_1=%{x}<br>partial_2=%{y}<br>partial_3=%{z}<extra></extra>",
         "legendgroup": "BEL",
         "marker": {
          "color": "#00cc96",
          "symbol": "circle"
         },
         "mode": "markers",
         "name": "BEL",
         "scene": "scene",
         "showlegend": true,
         "type": "scatter3d",
         "x": [
          -1.6611328897333826
         ],
         "y": [
          0.6272380933761301
         ],
         "z": [
          1.2892078510328455
         ]
        },
        {
         "hovertemplate": "country=BGR<br>partial_1=%{x}<br>partial_2=%{y}<br>partial_3=%{z}<extra></extra>",
         "legendgroup": "BGR",
         "marker": {
          "color": "#ab63fa",
          "symbol": "circle"
         },
         "mode": "markers",
         "name": "BGR",
         "scene": "scene",
         "showlegend": true,
         "type": "scatter3d",
         "x": [
          1.9920867799022237
         ],
         "y": [
          0.4876795238064246
         ],
         "z": [
          -0.606624133815576
         ]
        },
        {
         "hovertemplate": "country=BLR<br>partial_1=%{x}<br>partial_2=%{y}<br>partial_3=%{z}<extra></extra>",
         "legendgroup": "BLR",
         "marker": {
          "color": "#FFA15A",
          "symbol": "circle"
         },
         "mode": "markers",
         "name": "BLR",
         "scene": "scene",
         "showlegend": true,
         "type": "scatter3d",
         "x": [
          3.400996305811274
         ],
         "y": [
          -2.1524499849082708
         ],
         "z": [
          2.132712318759682
         ]
        },
        {
         "hovertemplate": "country=CHE<br>partial_1=%{x}<br>partial_2=%{y}<br>partial_3=%{z}<extra></extra>",
         "legendgroup": "CHE",
         "marker": {
          "color": "#19d3f3",
          "symbol": "circle"
         },
         "mode": "markers",
         "name": "CHE",
         "scene": "scene",
         "showlegend": true,
         "type": "scatter3d",
         "x": [
          -2.483008264008687
         ],
         "y": [
          -0.03789000572148104
         ],
         "z": [
          -0.19995804306062712
         ]
        },
        {
         "hovertemplate": "country=CZE<br>partial_1=%{x}<br>partial_2=%{y}<br>partial_3=%{z}<extra></extra>",
         "legendgroup": "CZE",
         "marker": {
          "color": "#FF6692",
          "symbol": "circle"
         },
         "mode": "markers",
         "name": "CZE",
         "scene": "scene",
         "showlegend": true,
         "type": "scatter3d",
         "x": [
          -0.19373916182818798
         ],
         "y": [
          -0.7713497574607647
         ],
         "z": [
          -1.1937644898864812
         ]
        },
        {
         "hovertemplate": "country=DEU<br>partial_1=%{x}<br>partial_2=%{y}<br>partial_3=%{z}<extra></extra>",
         "legendgroup": "DEU",
         "marker": {
          "color": "#B6E880",
          "symbol": "circle"
         },
         "mode": "markers",
         "name": "DEU",
         "scene": "scene",
         "showlegend": true,
         "type": "scatter3d",
         "x": [
          -1.075381651819926
         ],
         "y": [
          0.6552162608340842
         ],
         "z": [
          -0.05182205712214967
         ]
        },
        {
         "hovertemplate": "country=DNK<br>partial_1=%{x}<br>partial_2=%{y}<br>partial_3=%{z}<extra></extra>",
         "legendgroup": "DNK",
         "marker": {
          "color": "#FF97FF",
          "symbol": "circle"
         },
         "mode": "markers",
         "name": "DNK",
         "scene": "scene",
         "showlegend": true,
         "type": "scatter3d",
         "x": [
          -2.0997853943569824
         ],
         "y": [
          0.5083175228845237
         ],
         "z": [
          0.9374956535946642
         ]
        },
        {
         "hovertemplate": "country=EST<br>partial_1=%{x}<br>partial_2=%{y}<br>partial_3=%{z}<extra></extra>",
         "legendgroup": "EST",
         "marker": {
          "color": "#FECB52",
          "symbol": "circle"
         },
         "mode": "markers",
         "name": "EST",
         "scene": "scene",
         "showlegend": true,
         "type": "scatter3d",
         "x": [
          0.7130337095011723
         ],
         "y": [
          -0.10542135079723282
         ],
         "z": [
          -0.4309223205791469
         ]
        },
        {
         "hovertemplate": "country=FIN<br>partial_1=%{x}<br>partial_2=%{y}<br>partial_3=%{z}<extra></extra>",
         "legendgroup": "FIN",
         "marker": {
          "color": "#636efa",
          "symbol": "circle"
         },
         "mode": "markers",
         "name": "FIN",
         "scene": "scene",
         "showlegend": true,
         "type": "scatter3d",
         "x": [
          -0.6816027171969009
         ],
         "y": [
          3.086724160968894
         ],
         "z": [
          -0.14975954982218573
         ]
        },
        {
         "hovertemplate": "country=FRA<br>partial_1=%{x}<br>partial_2=%{y}<br>partial_3=%{z}<extra></extra>",
         "legendgroup": "FRA",
         "marker": {
          "color": "#EF553B",
          "symbol": "circle"
         },
         "mode": "markers",
         "name": "FRA",
         "scene": "scene",
         "showlegend": true,
         "type": "scatter3d",
         "x": [
          -1.2994291502665223
         ],
         "y": [
          1.2068716418883958
         ],
         "z": [
          -0.11278204928632948
         ]
        },
        {
         "hovertemplate": "country=GBR<br>partial_1=%{x}<br>partial_2=%{y}<br>partial_3=%{z}<extra></extra>",
         "legendgroup": "GBR",
         "marker": {
          "color": "#00cc96",
          "symbol": "circle"
         },
         "mode": "markers",
         "name": "GBR",
         "scene": "scene",
         "showlegend": true,
         "type": "scatter3d",
         "x": [
          -1.4669850275723364
         ],
         "y": [
          0.021005461124976935
         ],
         "z": [
          0.889133316353417
         ]
        },
        {
         "hovertemplate": "country=GRC<br>partial_1=%{x}<br>partial_2=%{y}<br>partial_3=%{z}<extra></extra>",
         "legendgroup": "GRC",
         "marker": {
          "color": "#ab63fa",
          "symbol": "circle"
         },
         "mode": "markers",
         "name": "GRC",
         "scene": "scene",
         "showlegend": true,
         "type": "scatter3d",
         "x": [
          0.8910854058967445
         ],
         "y": [
          3.4031918465609734
         ],
         "z": [
          0.5700603030055122
         ]
        },
        {
         "hovertemplate": "country=HRV<br>partial_1=%{x}<br>partial_2=%{y}<br>partial_3=%{z}<extra></extra>",
         "legendgroup": "HRV",
         "marker": {
          "color": "#FFA15A",
          "symbol": "circle"
         },
         "mode": "markers",
         "name": "HRV",
         "scene": "scene",
         "showlegend": true,
         "type": "scatter3d",
         "x": [
          1.9433932079942318
         ],
         "y": [
          1.2467628285660752
         ],
         "z": [
          -0.6394061362357573
         ]
        },
        {
         "hovertemplate": "country=HUN<br>partial_1=%{x}<br>partial_2=%{y}<br>partial_3=%{z}<extra></extra>",
         "legendgroup": "HUN",
         "marker": {
          "color": "#19d3f3",
          "symbol": "circle"
         },
         "mode": "markers",
         "name": "HUN",
         "scene": "scene",
         "showlegend": true,
         "type": "scatter3d",
         "x": [
          1.265730490913957
         ],
         "y": [
          -1.2658916413744548
         ],
         "z": [
          -0.5017667285157901
         ]
        },
        {
         "hovertemplate": "country=IRL<br>partial_1=%{x}<br>partial_2=%{y}<br>partial_3=%{z}<extra></extra>",
         "legendgroup": "IRL",
         "marker": {
          "color": "#FF6692",
          "symbol": "circle"
         },
         "mode": "markers",
         "name": "IRL",
         "scene": "scene",
         "showlegend": true,
         "type": "scatter3d",
         "x": [
          -2.696437765927652
         ],
         "y": [
          -2.8240004553608475
         ],
         "z": [
          -2.1776589622873535
         ]
        },
        {
         "hovertemplate": "country=ISL<br>partial_1=%{x}<br>partial_2=%{y}<br>partial_3=%{z}<extra></extra>",
         "legendgroup": "ISL",
         "marker": {
          "color": "#B6E880",
          "symbol": "circle"
         },
         "mode": "markers",
         "name": "ISL",
         "scene": "scene",
         "showlegend": true,
         "type": "scatter3d",
         "x": [
          -3.683134682707826
         ],
         "y": [
          -2.3207964462893518
         ],
         "z": [
          1.942536606313696
         ]
        },
        {
         "hovertemplate": "country=ITA<br>partial_1=%{x}<br>partial_2=%{y}<br>partial_3=%{z}<extra></extra>",
         "legendgroup": "ITA",
         "marker": {
          "color": "#FF97FF",
          "symbol": "circle"
         },
         "mode": "markers",
         "name": "ITA",
         "scene": "scene",
         "showlegend": true,
         "type": "scatter3d",
         "x": [
          0.26415919842150476
         ],
         "y": [
          3.1525948389641467
         ],
         "z": [
          0.94357628095314
         ]
        },
        {
         "hovertemplate": "country=LTU<br>partial_1=%{x}<br>partial_2=%{y}<br>partial_3=%{z}<extra></extra>",
         "legendgroup": "LTU",
         "marker": {
          "color": "#FECB52",
          "symbol": "circle"
         },
         "mode": "markers",
         "name": "LTU",
         "scene": "scene",
         "showlegend": true,
         "type": "scatter3d",
         "x": [
          1.6125667169633007
         ],
         "y": [
          -0.2591489039363365
         ],
         "z": [
          -1.2277162131458053
         ]
        },
        {
         "hovertemplate": "country=LUX<br>partial_1=%{x}<br>partial_2=%{y}<br>partial_3=%{z}<extra></extra>",
         "legendgroup": "LUX",
         "marker": {
          "color": "#636efa",
          "symbol": "circle"
         },
         "mode": "markers",
         "name": "LUX",
         "scene": "scene",
         "showlegend": true,
         "type": "scatter3d",
         "x": [
          -3.74857865304048
         ],
         "y": [
          -1.3095379467165769
         ],
         "z": [
          0.49782759662840204
         ]
        },
        {
         "hovertemplate": "country=LVA<br>partial_1=%{x}<br>partial_2=%{y}<br>partial_3=%{z}<extra></extra>",
         "legendgroup": "LVA",
         "marker": {
          "color": "#EF553B",
          "symbol": "circle"
         },
         "mode": "markers",
         "name": "LVA",
         "scene": "scene",
         "showlegend": true,
         "type": "scatter3d",
         "x": [
          1.9163377873733594
         ],
         "y": [
          0.443991980639712
         ],
         "z": [
          -1.5540559875728375
         ]
        },
        {
         "hovertemplate": "country=NOR<br>partial_1=%{x}<br>partial_2=%{y}<br>partial_3=%{z}<extra></extra>",
         "legendgroup": "NOR",
         "marker": {
          "color": "#00cc96",
          "symbol": "circle"
         },
         "mode": "markers",
         "name": "NOR",
         "scene": "scene",
         "showlegend": true,
         "type": "scatter3d",
         "x": [
          -2.194702354732268
         ],
         "y": [
          0.5549654813279734
         ],
         "z": [
          1.8344624977950303
         ]
        },
        {
         "hovertemplate": "country=POL<br>partial_1=%{x}<br>partial_2=%{y}<br>partial_3=%{z}<extra></extra>",
         "legendgroup": "POL",
         "marker": {
          "color": "#ab63fa",
          "symbol": "circle"
         },
         "mode": "markers",
         "name": "POL",
         "scene": "scene",
         "showlegend": true,
         "type": "scatter3d",
         "x": [
          1.091550274255483
         ],
         "y": [
          -1.392680762784764
         ],
         "z": [
          -1.430000168863308
         ]
        },
        {
         "hovertemplate": "country=SVK<br>partial_1=%{x}<br>partial_2=%{y}<br>partial_3=%{z}<extra></extra>",
         "legendgroup": "SVK",
         "marker": {
          "color": "#FFA15A",
          "symbol": "circle"
         },
         "mode": "markers",
         "name": "SVK",
         "scene": "scene",
         "showlegend": true,
         "type": "scatter3d",
         "x": [
          1.444128959206568
         ],
         "y": [
          -1.0897825350389507
         ],
         "z": [
          -1.0898872616726505
         ]
        },
        {
         "hovertemplate": "country=SVN<br>partial_1=%{x}<br>partial_2=%{y}<br>partial_3=%{z}<extra></extra>",
         "legendgroup": "SVN",
         "marker": {
          "color": "#19d3f3",
          "symbol": "circle"
         },
         "mode": "markers",
         "name": "SVN",
         "scene": "scene",
         "showlegend": true,
         "type": "scatter3d",
         "x": [
          0.5466257707471172
         ],
         "y": [
          0.31365811926631343
         ],
         "z": [
          -2.003804658841535
         ]
        },
        {
         "hovertemplate": "country=UKR<br>partial_1=%{x}<br>partial_2=%{y}<br>partial_3=%{z}<extra></extra>",
         "legendgroup": "UKR",
         "marker": {
          "color": "#FF6692",
          "symbol": "circle"
         },
         "mode": "markers",
         "name": "UKR",
         "scene": "scene",
         "showlegend": true,
         "type": "scatter3d",
         "x": [
          4.775550142511855
         ],
         "y": [
          -1.7197149066129331
         ],
         "z": [
          3.2556786041581702
         ]
        }
       ],
       "layout": {
        "height": 800,
        "legend": {
         "title": {
          "text": "country"
         },
         "tracegroupgap": 0
        },
        "margin": {
         "t": 60
        },
        "scene": {
         "domain": {
          "x": [
           0,
           1
          ],
          "y": [
           0,
           1
          ]
         },
         "xaxis": {
          "title": {
           "text": "partial_1"
          }
         },
         "yaxis": {
          "title": {
           "text": "partial_2"
          }
         },
         "zaxis": {
          "title": {
           "text": "partial_3"
          }
         }
        },
        "template": {
         "data": {
          "bar": [
           {
            "error_x": {
             "color": "#2a3f5f"
            },
            "error_y": {
             "color": "#2a3f5f"
            },
            "marker": {
             "line": {
              "color": "#E5ECF6",
              "width": 0.5
             },
             "pattern": {
              "fillmode": "overlay",
              "size": 10,
              "solidity": 0.2
             }
            },
            "type": "bar"
           }
          ],
          "barpolar": [
           {
            "marker": {
             "line": {
              "color": "#E5ECF6",
              "width": 0.5
             },
             "pattern": {
              "fillmode": "overlay",
              "size": 10,
              "solidity": 0.2
             }
            },
            "type": "barpolar"
           }
          ],
          "carpet": [
           {
            "aaxis": {
             "endlinecolor": "#2a3f5f",
             "gridcolor": "white",
             "linecolor": "white",
             "minorgridcolor": "white",
             "startlinecolor": "#2a3f5f"
            },
            "baxis": {
             "endlinecolor": "#2a3f5f",
             "gridcolor": "white",
             "linecolor": "white",
             "minorgridcolor": "white",
             "startlinecolor": "#2a3f5f"
            },
            "type": "carpet"
           }
          ],
          "choropleth": [
           {
            "colorbar": {
             "outlinewidth": 0,
             "ticks": ""
            },
            "type": "choropleth"
           }
          ],
          "contour": [
           {
            "colorbar": {
             "outlinewidth": 0,
             "ticks": ""
            },
            "colorscale": [
             [
              0,
              "#0d0887"
             ],
             [
              0.1111111111111111,
              "#46039f"
             ],
             [
              0.2222222222222222,
              "#7201a8"
             ],
             [
              0.3333333333333333,
              "#9c179e"
             ],
             [
              0.4444444444444444,
              "#bd3786"
             ],
             [
              0.5555555555555556,
              "#d8576b"
             ],
             [
              0.6666666666666666,
              "#ed7953"
             ],
             [
              0.7777777777777778,
              "#fb9f3a"
             ],
             [
              0.8888888888888888,
              "#fdca26"
             ],
             [
              1,
              "#f0f921"
             ]
            ],
            "type": "contour"
           }
          ],
          "contourcarpet": [
           {
            "colorbar": {
             "outlinewidth": 0,
             "ticks": ""
            },
            "type": "contourcarpet"
           }
          ],
          "heatmap": [
           {
            "colorbar": {
             "outlinewidth": 0,
             "ticks": ""
            },
            "colorscale": [
             [
              0,
              "#0d0887"
             ],
             [
              0.1111111111111111,
              "#46039f"
             ],
             [
              0.2222222222222222,
              "#7201a8"
             ],
             [
              0.3333333333333333,
              "#9c179e"
             ],
             [
              0.4444444444444444,
              "#bd3786"
             ],
             [
              0.5555555555555556,
              "#d8576b"
             ],
             [
              0.6666666666666666,
              "#ed7953"
             ],
             [
              0.7777777777777778,
              "#fb9f3a"
             ],
             [
              0.8888888888888888,
              "#fdca26"
             ],
             [
              1,
              "#f0f921"
             ]
            ],
            "type": "heatmap"
           }
          ],
          "heatmapgl": [
           {
            "colorbar": {
             "outlinewidth": 0,
             "ticks": ""
            },
            "colorscale": [
             [
              0,
              "#0d0887"
             ],
             [
              0.1111111111111111,
              "#46039f"
             ],
             [
              0.2222222222222222,
              "#7201a8"
             ],
             [
              0.3333333333333333,
              "#9c179e"
             ],
             [
              0.4444444444444444,
              "#bd3786"
             ],
             [
              0.5555555555555556,
              "#d8576b"
             ],
             [
              0.6666666666666666,
              "#ed7953"
             ],
             [
              0.7777777777777778,
              "#fb9f3a"
             ],
             [
              0.8888888888888888,
              "#fdca26"
             ],
             [
              1,
              "#f0f921"
             ]
            ],
            "type": "heatmapgl"
           }
          ],
          "histogram": [
           {
            "marker": {
             "pattern": {
              "fillmode": "overlay",
              "size": 10,
              "solidity": 0.2
             }
            },
            "type": "histogram"
           }
          ],
          "histogram2d": [
           {
            "colorbar": {
             "outlinewidth": 0,
             "ticks": ""
            },
            "colorscale": [
             [
              0,
              "#0d0887"
             ],
             [
              0.1111111111111111,
              "#46039f"
             ],
             [
              0.2222222222222222,
              "#7201a8"
             ],
             [
              0.3333333333333333,
              "#9c179e"
             ],
             [
              0.4444444444444444,
              "#bd3786"
             ],
             [
              0.5555555555555556,
              "#d8576b"
             ],
             [
              0.6666666666666666,
              "#ed7953"
             ],
             [
              0.7777777777777778,
              "#fb9f3a"
             ],
             [
              0.8888888888888888,
              "#fdca26"
             ],
             [
              1,
              "#f0f921"
             ]
            ],
            "type": "histogram2d"
           }
          ],
          "histogram2dcontour": [
           {
            "colorbar": {
             "outlinewidth": 0,
             "ticks": ""
            },
            "colorscale": [
             [
              0,
              "#0d0887"
             ],
             [
              0.1111111111111111,
              "#46039f"
             ],
             [
              0.2222222222222222,
              "#7201a8"
             ],
             [
              0.3333333333333333,
              "#9c179e"
             ],
             [
              0.4444444444444444,
              "#bd3786"
             ],
             [
              0.5555555555555556,
              "#d8576b"
             ],
             [
              0.6666666666666666,
              "#ed7953"
             ],
             [
              0.7777777777777778,
              "#fb9f3a"
             ],
             [
              0.8888888888888888,
              "#fdca26"
             ],
             [
              1,
              "#f0f921"
             ]
            ],
            "type": "histogram2dcontour"
           }
          ],
          "mesh3d": [
           {
            "colorbar": {
             "outlinewidth": 0,
             "ticks": ""
            },
            "type": "mesh3d"
           }
          ],
          "parcoords": [
           {
            "line": {
             "colorbar": {
              "outlinewidth": 0,
              "ticks": ""
             }
            },
            "type": "parcoords"
           }
          ],
          "pie": [
           {
            "automargin": true,
            "type": "pie"
           }
          ],
          "scatter": [
           {
            "marker": {
             "colorbar": {
              "outlinewidth": 0,
              "ticks": ""
             }
            },
            "type": "scatter"
           }
          ],
          "scatter3d": [
           {
            "line": {
             "colorbar": {
              "outlinewidth": 0,
              "ticks": ""
             }
            },
            "marker": {
             "colorbar": {
              "outlinewidth": 0,
              "ticks": ""
             }
            },
            "type": "scatter3d"
           }
          ],
          "scattercarpet": [
           {
            "marker": {
             "colorbar": {
              "outlinewidth": 0,
              "ticks": ""
             }
            },
            "type": "scattercarpet"
           }
          ],
          "scattergeo": [
           {
            "marker": {
             "colorbar": {
              "outlinewidth": 0,
              "ticks": ""
             }
            },
            "type": "scattergeo"
           }
          ],
          "scattergl": [
           {
            "marker": {
             "colorbar": {
              "outlinewidth": 0,
              "ticks": ""
             }
            },
            "type": "scattergl"
           }
          ],
          "scattermapbox": [
           {
            "marker": {
             "colorbar": {
              "outlinewidth": 0,
              "ticks": ""
             }
            },
            "type": "scattermapbox"
           }
          ],
          "scatterpolar": [
           {
            "marker": {
             "colorbar": {
              "outlinewidth": 0,
              "ticks": ""
             }
            },
            "type": "scatterpolar"
           }
          ],
          "scatterpolargl": [
           {
            "marker": {
             "colorbar": {
              "outlinewidth": 0,
              "ticks": ""
             }
            },
            "type": "scatterpolargl"
           }
          ],
          "scatterternary": [
           {
            "marker": {
             "colorbar": {
              "outlinewidth": 0,
              "ticks": ""
             }
            },
            "type": "scatterternary"
           }
          ],
          "surface": [
           {
            "colorbar": {
             "outlinewidth": 0,
             "ticks": ""
            },
            "colorscale": [
             [
              0,
              "#0d0887"
             ],
             [
              0.1111111111111111,
              "#46039f"
             ],
             [
              0.2222222222222222,
              "#7201a8"
             ],
             [
              0.3333333333333333,
              "#9c179e"
             ],
             [
              0.4444444444444444,
              "#bd3786"
             ],
             [
              0.5555555555555556,
              "#d8576b"
             ],
             [
              0.6666666666666666,
              "#ed7953"
             ],
             [
              0.7777777777777778,
              "#fb9f3a"
             ],
             [
              0.8888888888888888,
              "#fdca26"
             ],
             [
              1,
              "#f0f921"
             ]
            ],
            "type": "surface"
           }
          ],
          "table": [
           {
            "cells": {
             "fill": {
              "color": "#EBF0F8"
             },
             "line": {
              "color": "white"
             }
            },
            "header": {
             "fill": {
              "color": "#C8D4E3"
             },
             "line": {
              "color": "white"
             }
            },
            "type": "table"
           }
          ]
         },
         "layout": {
          "annotationdefaults": {
           "arrowcolor": "#2a3f5f",
           "arrowhead": 0,
           "arrowwidth": 1
          },
          "autotypenumbers": "strict",
          "coloraxis": {
           "colorbar": {
            "outlinewidth": 0,
            "ticks": ""
           }
          },
          "colorscale": {
           "diverging": [
            [
             0,
             "#8e0152"
            ],
            [
             0.1,
             "#c51b7d"
            ],
            [
             0.2,
             "#de77ae"
            ],
            [
             0.3,
             "#f1b6da"
            ],
            [
             0.4,
             "#fde0ef"
            ],
            [
             0.5,
             "#f7f7f7"
            ],
            [
             0.6,
             "#e6f5d0"
            ],
            [
             0.7,
             "#b8e186"
            ],
            [
             0.8,
             "#7fbc41"
            ],
            [
             0.9,
             "#4d9221"
            ],
            [
             1,
             "#276419"
            ]
           ],
           "sequential": [
            [
             0,
             "#0d0887"
            ],
            [
             0.1111111111111111,
             "#46039f"
            ],
            [
             0.2222222222222222,
             "#7201a8"
            ],
            [
             0.3333333333333333,
             "#9c179e"
            ],
            [
             0.4444444444444444,
             "#bd3786"
            ],
            [
             0.5555555555555556,
             "#d8576b"
            ],
            [
             0.6666666666666666,
             "#ed7953"
            ],
            [
             0.7777777777777778,
             "#fb9f3a"
            ],
            [
             0.8888888888888888,
             "#fdca26"
            ],
            [
             1,
             "#f0f921"
            ]
           ],
           "sequentialminus": [
            [
             0,
             "#0d0887"
            ],
            [
             0.1111111111111111,
             "#46039f"
            ],
            [
             0.2222222222222222,
             "#7201a8"
            ],
            [
             0.3333333333333333,
             "#9c179e"
            ],
            [
             0.4444444444444444,
             "#bd3786"
            ],
            [
             0.5555555555555556,
             "#d8576b"
            ],
            [
             0.6666666666666666,
             "#ed7953"
            ],
            [
             0.7777777777777778,
             "#fb9f3a"
            ],
            [
             0.8888888888888888,
             "#fdca26"
            ],
            [
             1,
             "#f0f921"
            ]
           ]
          },
          "colorway": [
           "#636efa",
           "#EF553B",
           "#00cc96",
           "#ab63fa",
           "#FFA15A",
           "#19d3f3",
           "#FF6692",
           "#B6E880",
           "#FF97FF",
           "#FECB52"
          ],
          "font": {
           "color": "#2a3f5f"
          },
          "geo": {
           "bgcolor": "white",
           "lakecolor": "white",
           "landcolor": "#E5ECF6",
           "showlakes": true,
           "showland": true,
           "subunitcolor": "white"
          },
          "hoverlabel": {
           "align": "left"
          },
          "hovermode": "closest",
          "mapbox": {
           "style": "light"
          },
          "paper_bgcolor": "white",
          "plot_bgcolor": "#E5ECF6",
          "polar": {
           "angularaxis": {
            "gridcolor": "white",
            "linecolor": "white",
            "ticks": ""
           },
           "bgcolor": "#E5ECF6",
           "radialaxis": {
            "gridcolor": "white",
            "linecolor": "white",
            "ticks": ""
           }
          },
          "scene": {
           "xaxis": {
            "backgroundcolor": "#E5ECF6",
            "gridcolor": "white",
            "gridwidth": 2,
            "linecolor": "white",
            "showbackground": true,
            "ticks": "",
            "zerolinecolor": "white"
           },
           "yaxis": {
            "backgroundcolor": "#E5ECF6",
            "gridcolor": "white",
            "gridwidth": 2,
            "linecolor": "white",
            "showbackground": true,
            "ticks": "",
            "zerolinecolor": "white"
           },
           "zaxis": {
            "backgroundcolor": "#E5ECF6",
            "gridcolor": "white",
            "gridwidth": 2,
            "linecolor": "white",
            "showbackground": true,
            "ticks": "",
            "zerolinecolor": "white"
           }
          },
          "shapedefaults": {
           "line": {
            "color": "#2a3f5f"
           }
          },
          "ternary": {
           "aaxis": {
            "gridcolor": "white",
            "linecolor": "white",
            "ticks": ""
           },
           "baxis": {
            "gridcolor": "white",
            "linecolor": "white",
            "ticks": ""
           },
           "bgcolor": "#E5ECF6",
           "caxis": {
            "gridcolor": "white",
            "linecolor": "white",
            "ticks": ""
           }
          },
          "title": {
           "x": 0.05
          },
          "xaxis": {
           "automargin": true,
           "gridcolor": "white",
           "linecolor": "white",
           "ticks": "",
           "title": {
            "standoff": 15
           },
           "zerolinecolor": "white",
           "zerolinewidth": 2
          },
          "yaxis": {
           "automargin": true,
           "gridcolor": "white",
           "linecolor": "white",
           "ticks": "",
           "title": {
            "standoff": 15
           },
           "zerolinecolor": "white",
           "zerolinewidth": 2
          }
         }
        },
        "width": 1000
       }
      }
     },
     "metadata": {},
     "output_type": "display_data"
    }
   ],
   "source": [
    "import plotly.express as px\n",
    "\n",
    "pca = PCA(n_components=3)\n",
    "transformed = pca.fit_transform(df_scaled)\n",
    "transformed = pd.DataFrame(transformed)\n",
    "transformed.index = df.index\n",
    "transformed = transformed.reset_index()\n",
    "\n",
    "\n",
    "transformed.columns=['country', 'partial_1', 'partial_2', 'partial_3']\n",
    "\n",
    "fig = px.scatter_3d(transformed, x='partial_1', y='partial_2', z='partial_3',\n",
    "              color='country')\n",
    "fig.update_layout(width=1000, height=800)              \n",
    "fig.show()"
   ]
  },
  {
   "cell_type": "markdown",
   "id": "8a5df02e",
   "metadata": {},
   "source": [
    "# Analiza skupień"
   ]
  },
  {
   "cell_type": "code",
   "execution_count": 14,
   "id": "f840ea20",
   "metadata": {},
   "outputs": [
    {
     "data": {
      "application/vnd.plotly.v1+json": {
       "config": {
        "plotlyServerURL": "https://plot.ly"
       },
       "data": [
        {
         "hoverinfo": "text",
         "marker": {
          "color": "rgb(61,153,112)"
         },
         "mode": "lines",
         "type": "scatter",
         "x": [
          5,
          5,
          15,
          15
         ],
         "xaxis": "x",
         "y": [
          0,
          1799.3240296539152,
          1799.3240296539152,
          0
         ],
         "yaxis": "y"
        },
        {
         "hoverinfo": "text",
         "marker": {
          "color": "rgb(61,153,112)"
         },
         "mode": "lines",
         "type": "scatter",
         "x": [
          25,
          25,
          35,
          35
         ],
         "xaxis": "x",
         "y": [
          0,
          4536.741207431224,
          4536.741207431224,
          0
         ],
         "yaxis": "y"
        },
        {
         "hoverinfo": "text",
         "marker": {
          "color": "rgb(61,153,112)"
         },
         "mode": "lines",
         "type": "scatter",
         "x": [
          10,
          10,
          30,
          30
         ],
         "xaxis": "x",
         "y": [
          1799.3240296539152,
          12037.25553427215,
          12037.25553427215,
          4536.741207431224
         ],
         "yaxis": "y"
        },
        {
         "hoverinfo": "text",
         "marker": {
          "color": "rgb(61,153,112)"
         },
         "mode": "lines",
         "type": "scatter",
         "x": [
          45,
          45,
          55,
          55
         ],
         "xaxis": "x",
         "y": [
          0,
          1963.5540063728522,
          1963.5540063728522,
          0
         ],
         "yaxis": "y"
        },
        {
         "hoverinfo": "text",
         "marker": {
          "color": "rgb(61,153,112)"
         },
         "mode": "lines",
         "type": "scatter",
         "x": [
          85,
          85,
          95,
          95
         ],
         "xaxis": "x",
         "y": [
          0,
          245.24006744226813,
          245.24006744226813,
          0
         ],
         "yaxis": "y"
        },
        {
         "hoverinfo": "text",
         "marker": {
          "color": "rgb(61,153,112)"
         },
         "mode": "lines",
         "type": "scatter",
         "x": [
          75,
          75,
          90,
          90
         ],
         "xaxis": "x",
         "y": [
          0,
          1463.1317546347586,
          1463.1317546347586,
          245.24006744226813
         ],
         "yaxis": "y"
        },
        {
         "hoverinfo": "text",
         "marker": {
          "color": "rgb(61,153,112)"
         },
         "mode": "lines",
         "type": "scatter",
         "x": [
          65,
          65,
          82.5,
          82.5
         ],
         "xaxis": "x",
         "y": [
          0,
          3787.312427148797,
          3787.312427148797,
          1463.1317546347586
         ],
         "yaxis": "y"
        },
        {
         "hoverinfo": "text",
         "marker": {
          "color": "rgb(61,153,112)"
         },
         "mode": "lines",
         "type": "scatter",
         "x": [
          50,
          50,
          73.75,
          73.75
         ],
         "xaxis": "x",
         "y": [
          1963.5540063728522,
          4895.766535706987,
          4895.766535706987,
          3787.312427148797
         ],
         "yaxis": "y"
        },
        {
         "hoverinfo": "text",
         "marker": {
          "color": "rgb(61,153,112)"
         },
         "mode": "lines",
         "type": "scatter",
         "x": [
          105,
          105,
          115,
          115
         ],
         "xaxis": "x",
         "y": [
          0,
          2876.3918258518643,
          2876.3918258518643,
          0
         ],
         "yaxis": "y"
        },
        {
         "hoverinfo": "text",
         "marker": {
          "color": "rgb(61,153,112)"
         },
         "mode": "lines",
         "type": "scatter",
         "x": [
          125,
          125,
          135,
          135
         ],
         "xaxis": "x",
         "y": [
          0,
          4051.1885157260126,
          4051.1885157260126,
          0
         ],
         "yaxis": "y"
        },
        {
         "hoverinfo": "text",
         "marker": {
          "color": "rgb(61,153,112)"
         },
         "mode": "lines",
         "type": "scatter",
         "x": [
          110,
          110,
          130,
          130
         ],
         "xaxis": "x",
         "y": [
          2876.3918258518643,
          5611.853350779442,
          5611.853350779442,
          4051.1885157260126
         ],
         "yaxis": "y"
        },
        {
         "hoverinfo": "text",
         "marker": {
          "color": "rgb(61,153,112)"
         },
         "mode": "lines",
         "type": "scatter",
         "x": [
          61.875,
          61.875,
          120,
          120
         ],
         "xaxis": "x",
         "y": [
          4895.766535706987,
          18777.45713880656,
          18777.45713880656,
          5611.853350779442
         ],
         "yaxis": "y"
        },
        {
         "hoverinfo": "text",
         "marker": {
          "color": "rgb(61,153,112)"
         },
         "mode": "lines",
         "type": "scatter",
         "x": [
          20,
          20,
          90.9375,
          90.9375
         ],
         "xaxis": "x",
         "y": [
          12037.25553427215,
          47438.366675603815,
          47438.366675603815,
          18777.45713880656
         ],
         "yaxis": "y"
        },
        {
         "hoverinfo": "text",
         "marker": {
          "color": "rgb(255,65,54)"
         },
         "mode": "lines",
         "type": "scatter",
         "x": [
          155,
          155,
          165,
          165
         ],
         "xaxis": "x",
         "y": [
          0,
          2547.3660598587676,
          2547.3660598587676,
          0
         ],
         "yaxis": "y"
        },
        {
         "hoverinfo": "text",
         "marker": {
          "color": "rgb(255,65,54)"
         },
         "mode": "lines",
         "type": "scatter",
         "x": [
          175,
          175,
          185,
          185
         ],
         "xaxis": "x",
         "y": [
          0,
          3422.2884557241446,
          3422.2884557241446,
          0
         ],
         "yaxis": "y"
        },
        {
         "hoverinfo": "text",
         "marker": {
          "color": "rgb(255,65,54)"
         },
         "mode": "lines",
         "type": "scatter",
         "x": [
          160,
          160,
          180,
          180
         ],
         "xaxis": "x",
         "y": [
          2547.3660598587676,
          6925.633051405245,
          6925.633051405245,
          3422.2884557241446
         ],
         "yaxis": "y"
        },
        {
         "hoverinfo": "text",
         "marker": {
          "color": "rgb(255,65,54)"
         },
         "mode": "lines",
         "type": "scatter",
         "x": [
          205,
          205,
          215,
          215
         ],
         "xaxis": "x",
         "y": [
          0,
          1111.6345147575146,
          1111.6345147575146,
          0
         ],
         "yaxis": "y"
        },
        {
         "hoverinfo": "text",
         "marker": {
          "color": "rgb(255,65,54)"
         },
         "mode": "lines",
         "type": "scatter",
         "x": [
          195,
          195,
          210,
          210
         ],
         "xaxis": "x",
         "y": [
          0,
          8634.744577922567,
          8634.744577922567,
          1111.6345147575146
         ],
         "yaxis": "y"
        },
        {
         "hoverinfo": "text",
         "marker": {
          "color": "rgb(255,65,54)"
         },
         "mode": "lines",
         "type": "scatter",
         "x": [
          170,
          170,
          202.5,
          202.5
         ],
         "xaxis": "x",
         "y": [
          6925.633051405245,
          20031.993141479794,
          20031.993141479794,
          8634.744577922567
         ],
         "yaxis": "y"
        },
        {
         "hoverinfo": "text",
         "marker": {
          "color": "rgb(255,65,54)"
         },
         "mode": "lines",
         "type": "scatter",
         "x": [
          235,
          235,
          245,
          245
         ],
         "xaxis": "x",
         "y": [
          0,
          1185.7393656394383,
          1185.7393656394383,
          0
         ],
         "yaxis": "y"
        },
        {
         "hoverinfo": "text",
         "marker": {
          "color": "rgb(255,65,54)"
         },
         "mode": "lines",
         "type": "scatter",
         "x": [
          255,
          255,
          265,
          265
         ],
         "xaxis": "x",
         "y": [
          0,
          6174.806927591377,
          6174.806927591377,
          0
         ],
         "yaxis": "y"
        },
        {
         "hoverinfo": "text",
         "marker": {
          "color": "rgb(255,65,54)"
         },
         "mode": "lines",
         "type": "scatter",
         "x": [
          240,
          240,
          260,
          260
         ],
         "xaxis": "x",
         "y": [
          1185.7393656394383,
          21656.011691913314,
          21656.011691913314,
          6174.806927591377
         ],
         "yaxis": "y"
        },
        {
         "hoverinfo": "text",
         "marker": {
          "color": "rgb(255,65,54)"
         },
         "mode": "lines",
         "type": "scatter",
         "x": [
          225,
          225,
          250,
          250
         ],
         "xaxis": "x",
         "y": [
          0,
          35457.229572192045,
          35457.229572192045,
          21656.011691913314
         ],
         "yaxis": "y"
        },
        {
         "hoverinfo": "text",
         "marker": {
          "color": "rgb(255,65,54)"
         },
         "mode": "lines",
         "type": "scatter",
         "x": [
          186.25,
          186.25,
          237.5,
          237.5
         ],
         "xaxis": "x",
         "y": [
          20031.993141479794,
          62567.34819066866,
          62567.34819066866,
          35457.229572192045
         ],
         "yaxis": "y"
        },
        {
         "hoverinfo": "text",
         "marker": {
          "color": "rgb(255,65,54)"
         },
         "mode": "lines",
         "type": "scatter",
         "x": [
          145,
          145,
          211.875,
          211.875
         ],
         "xaxis": "x",
         "y": [
          0,
          83054.74155079713,
          83054.74155079713,
          62567.34819066866
         ],
         "yaxis": "y"
        },
        {
         "hoverinfo": "text",
         "marker": {
          "color": "rgb(0,116,217)"
         },
         "mode": "lines",
         "type": "scatter",
         "x": [
          55.46875,
          55.46875,
          178.4375,
          178.4375
         ],
         "xaxis": "x",
         "y": [
          47438.366675603815,
          173428.51752641215,
          173428.51752641215,
          83054.74155079713
         ],
         "yaxis": "y"
        }
       ],
       "layout": {
        "autosize": false,
        "height": 800,
        "hovermode": "closest",
        "showlegend": false,
        "template": {
         "data": {
          "bar": [
           {
            "error_x": {
             "color": "#2a3f5f"
            },
            "error_y": {
             "color": "#2a3f5f"
            },
            "marker": {
             "line": {
              "color": "#E5ECF6",
              "width": 0.5
             },
             "pattern": {
              "fillmode": "overlay",
              "size": 10,
              "solidity": 0.2
             }
            },
            "type": "bar"
           }
          ],
          "barpolar": [
           {
            "marker": {
             "line": {
              "color": "#E5ECF6",
              "width": 0.5
             },
             "pattern": {
              "fillmode": "overlay",
              "size": 10,
              "solidity": 0.2
             }
            },
            "type": "barpolar"
           }
          ],
          "carpet": [
           {
            "aaxis": {
             "endlinecolor": "#2a3f5f",
             "gridcolor": "white",
             "linecolor": "white",
             "minorgridcolor": "white",
             "startlinecolor": "#2a3f5f"
            },
            "baxis": {
             "endlinecolor": "#2a3f5f",
             "gridcolor": "white",
             "linecolor": "white",
             "minorgridcolor": "white",
             "startlinecolor": "#2a3f5f"
            },
            "type": "carpet"
           }
          ],
          "choropleth": [
           {
            "colorbar": {
             "outlinewidth": 0,
             "ticks": ""
            },
            "type": "choropleth"
           }
          ],
          "contour": [
           {
            "colorbar": {
             "outlinewidth": 0,
             "ticks": ""
            },
            "colorscale": [
             [
              0,
              "#0d0887"
             ],
             [
              0.1111111111111111,
              "#46039f"
             ],
             [
              0.2222222222222222,
              "#7201a8"
             ],
             [
              0.3333333333333333,
              "#9c179e"
             ],
             [
              0.4444444444444444,
              "#bd3786"
             ],
             [
              0.5555555555555556,
              "#d8576b"
             ],
             [
              0.6666666666666666,
              "#ed7953"
             ],
             [
              0.7777777777777778,
              "#fb9f3a"
             ],
             [
              0.8888888888888888,
              "#fdca26"
             ],
             [
              1,
              "#f0f921"
             ]
            ],
            "type": "contour"
           }
          ],
          "contourcarpet": [
           {
            "colorbar": {
             "outlinewidth": 0,
             "ticks": ""
            },
            "type": "contourcarpet"
           }
          ],
          "heatmap": [
           {
            "colorbar": {
             "outlinewidth": 0,
             "ticks": ""
            },
            "colorscale": [
             [
              0,
              "#0d0887"
             ],
             [
              0.1111111111111111,
              "#46039f"
             ],
             [
              0.2222222222222222,
              "#7201a8"
             ],
             [
              0.3333333333333333,
              "#9c179e"
             ],
             [
              0.4444444444444444,
              "#bd3786"
             ],
             [
              0.5555555555555556,
              "#d8576b"
             ],
             [
              0.6666666666666666,
              "#ed7953"
             ],
             [
              0.7777777777777778,
              "#fb9f3a"
             ],
             [
              0.8888888888888888,
              "#fdca26"
             ],
             [
              1,
              "#f0f921"
             ]
            ],
            "type": "heatmap"
           }
          ],
          "heatmapgl": [
           {
            "colorbar": {
             "outlinewidth": 0,
             "ticks": ""
            },
            "colorscale": [
             [
              0,
              "#0d0887"
             ],
             [
              0.1111111111111111,
              "#46039f"
             ],
             [
              0.2222222222222222,
              "#7201a8"
             ],
             [
              0.3333333333333333,
              "#9c179e"
             ],
             [
              0.4444444444444444,
              "#bd3786"
             ],
             [
              0.5555555555555556,
              "#d8576b"
             ],
             [
              0.6666666666666666,
              "#ed7953"
             ],
             [
              0.7777777777777778,
              "#fb9f3a"
             ],
             [
              0.8888888888888888,
              "#fdca26"
             ],
             [
              1,
              "#f0f921"
             ]
            ],
            "type": "heatmapgl"
           }
          ],
          "histogram": [
           {
            "marker": {
             "pattern": {
              "fillmode": "overlay",
              "size": 10,
              "solidity": 0.2
             }
            },
            "type": "histogram"
           }
          ],
          "histogram2d": [
           {
            "colorbar": {
             "outlinewidth": 0,
             "ticks": ""
            },
            "colorscale": [
             [
              0,
              "#0d0887"
             ],
             [
              0.1111111111111111,
              "#46039f"
             ],
             [
              0.2222222222222222,
              "#7201a8"
             ],
             [
              0.3333333333333333,
              "#9c179e"
             ],
             [
              0.4444444444444444,
              "#bd3786"
             ],
             [
              0.5555555555555556,
              "#d8576b"
             ],
             [
              0.6666666666666666,
              "#ed7953"
             ],
             [
              0.7777777777777778,
              "#fb9f3a"
             ],
             [
              0.8888888888888888,
              "#fdca26"
             ],
             [
              1,
              "#f0f921"
             ]
            ],
            "type": "histogram2d"
           }
          ],
          "histogram2dcontour": [
           {
            "colorbar": {
             "outlinewidth": 0,
             "ticks": ""
            },
            "colorscale": [
             [
              0,
              "#0d0887"
             ],
             [
              0.1111111111111111,
              "#46039f"
             ],
             [
              0.2222222222222222,
              "#7201a8"
             ],
             [
              0.3333333333333333,
              "#9c179e"
             ],
             [
              0.4444444444444444,
              "#bd3786"
             ],
             [
              0.5555555555555556,
              "#d8576b"
             ],
             [
              0.6666666666666666,
              "#ed7953"
             ],
             [
              0.7777777777777778,
              "#fb9f3a"
             ],
             [
              0.8888888888888888,
              "#fdca26"
             ],
             [
              1,
              "#f0f921"
             ]
            ],
            "type": "histogram2dcontour"
           }
          ],
          "mesh3d": [
           {
            "colorbar": {
             "outlinewidth": 0,
             "ticks": ""
            },
            "type": "mesh3d"
           }
          ],
          "parcoords": [
           {
            "line": {
             "colorbar": {
              "outlinewidth": 0,
              "ticks": ""
             }
            },
            "type": "parcoords"
           }
          ],
          "pie": [
           {
            "automargin": true,
            "type": "pie"
           }
          ],
          "scatter": [
           {
            "marker": {
             "colorbar": {
              "outlinewidth": 0,
              "ticks": ""
             }
            },
            "type": "scatter"
           }
          ],
          "scatter3d": [
           {
            "line": {
             "colorbar": {
              "outlinewidth": 0,
              "ticks": ""
             }
            },
            "marker": {
             "colorbar": {
              "outlinewidth": 0,
              "ticks": ""
             }
            },
            "type": "scatter3d"
           }
          ],
          "scattercarpet": [
           {
            "marker": {
             "colorbar": {
              "outlinewidth": 0,
              "ticks": ""
             }
            },
            "type": "scattercarpet"
           }
          ],
          "scattergeo": [
           {
            "marker": {
             "colorbar": {
              "outlinewidth": 0,
              "ticks": ""
             }
            },
            "type": "scattergeo"
           }
          ],
          "scattergl": [
           {
            "marker": {
             "colorbar": {
              "outlinewidth": 0,
              "ticks": ""
             }
            },
            "type": "scattergl"
           }
          ],
          "scattermapbox": [
           {
            "marker": {
             "colorbar": {
              "outlinewidth": 0,
              "ticks": ""
             }
            },
            "type": "scattermapbox"
           }
          ],
          "scatterpolar": [
           {
            "marker": {
             "colorbar": {
              "outlinewidth": 0,
              "ticks": ""
             }
            },
            "type": "scatterpolar"
           }
          ],
          "scatterpolargl": [
           {
            "marker": {
             "colorbar": {
              "outlinewidth": 0,
              "ticks": ""
             }
            },
            "type": "scatterpolargl"
           }
          ],
          "scatterternary": [
           {
            "marker": {
             "colorbar": {
              "outlinewidth": 0,
              "ticks": ""
             }
            },
            "type": "scatterternary"
           }
          ],
          "surface": [
           {
            "colorbar": {
             "outlinewidth": 0,
             "ticks": ""
            },
            "colorscale": [
             [
              0,
              "#0d0887"
             ],
             [
              0.1111111111111111,
              "#46039f"
             ],
             [
              0.2222222222222222,
              "#7201a8"
             ],
             [
              0.3333333333333333,
              "#9c179e"
             ],
             [
              0.4444444444444444,
              "#bd3786"
             ],
             [
              0.5555555555555556,
              "#d8576b"
             ],
             [
              0.6666666666666666,
              "#ed7953"
             ],
             [
              0.7777777777777778,
              "#fb9f3a"
             ],
             [
              0.8888888888888888,
              "#fdca26"
             ],
             [
              1,
              "#f0f921"
             ]
            ],
            "type": "surface"
           }
          ],
          "table": [
           {
            "cells": {
             "fill": {
              "color": "#EBF0F8"
             },
             "line": {
              "color": "white"
             }
            },
            "header": {
             "fill": {
              "color": "#C8D4E3"
             },
             "line": {
              "color": "white"
             }
            },
            "type": "table"
           }
          ]
         },
         "layout": {
          "annotationdefaults": {
           "arrowcolor": "#2a3f5f",
           "arrowhead": 0,
           "arrowwidth": 1
          },
          "autotypenumbers": "strict",
          "coloraxis": {
           "colorbar": {
            "outlinewidth": 0,
            "ticks": ""
           }
          },
          "colorscale": {
           "diverging": [
            [
             0,
             "#8e0152"
            ],
            [
             0.1,
             "#c51b7d"
            ],
            [
             0.2,
             "#de77ae"
            ],
            [
             0.3,
             "#f1b6da"
            ],
            [
             0.4,
             "#fde0ef"
            ],
            [
             0.5,
             "#f7f7f7"
            ],
            [
             0.6,
             "#e6f5d0"
            ],
            [
             0.7,
             "#b8e186"
            ],
            [
             0.8,
             "#7fbc41"
            ],
            [
             0.9,
             "#4d9221"
            ],
            [
             1,
             "#276419"
            ]
           ],
           "sequential": [
            [
             0,
             "#0d0887"
            ],
            [
             0.1111111111111111,
             "#46039f"
            ],
            [
             0.2222222222222222,
             "#7201a8"
            ],
            [
             0.3333333333333333,
             "#9c179e"
            ],
            [
             0.4444444444444444,
             "#bd3786"
            ],
            [
             0.5555555555555556,
             "#d8576b"
            ],
            [
             0.6666666666666666,
             "#ed7953"
            ],
            [
             0.7777777777777778,
             "#fb9f3a"
            ],
            [
             0.8888888888888888,
             "#fdca26"
            ],
            [
             1,
             "#f0f921"
            ]
           ],
           "sequentialminus": [
            [
             0,
             "#0d0887"
            ],
            [
             0.1111111111111111,
             "#46039f"
            ],
            [
             0.2222222222222222,
             "#7201a8"
            ],
            [
             0.3333333333333333,
             "#9c179e"
            ],
            [
             0.4444444444444444,
             "#bd3786"
            ],
            [
             0.5555555555555556,
             "#d8576b"
            ],
            [
             0.6666666666666666,
             "#ed7953"
            ],
            [
             0.7777777777777778,
             "#fb9f3a"
            ],
            [
             0.8888888888888888,
             "#fdca26"
            ],
            [
             1,
             "#f0f921"
            ]
           ]
          },
          "colorway": [
           "#636efa",
           "#EF553B",
           "#00cc96",
           "#ab63fa",
           "#FFA15A",
           "#19d3f3",
           "#FF6692",
           "#B6E880",
           "#FF97FF",
           "#FECB52"
          ],
          "font": {
           "color": "#2a3f5f"
          },
          "geo": {
           "bgcolor": "white",
           "lakecolor": "white",
           "landcolor": "#E5ECF6",
           "showlakes": true,
           "showland": true,
           "subunitcolor": "white"
          },
          "hoverlabel": {
           "align": "left"
          },
          "hovermode": "closest",
          "mapbox": {
           "style": "light"
          },
          "paper_bgcolor": "white",
          "plot_bgcolor": "#E5ECF6",
          "polar": {
           "angularaxis": {
            "gridcolor": "white",
            "linecolor": "white",
            "ticks": ""
           },
           "bgcolor": "#E5ECF6",
           "radialaxis": {
            "gridcolor": "white",
            "linecolor": "white",
            "ticks": ""
           }
          },
          "scene": {
           "xaxis": {
            "backgroundcolor": "#E5ECF6",
            "gridcolor": "white",
            "gridwidth": 2,
            "linecolor": "white",
            "showbackground": true,
            "ticks": "",
            "zerolinecolor": "white"
           },
           "yaxis": {
            "backgroundcolor": "#E5ECF6",
            "gridcolor": "white",
            "gridwidth": 2,
            "linecolor": "white",
            "showbackground": true,
            "ticks": "",
            "zerolinecolor": "white"
           },
           "zaxis": {
            "backgroundcolor": "#E5ECF6",
            "gridcolor": "white",
            "gridwidth": 2,
            "linecolor": "white",
            "showbackground": true,
            "ticks": "",
            "zerolinecolor": "white"
           }
          },
          "shapedefaults": {
           "line": {
            "color": "#2a3f5f"
           }
          },
          "ternary": {
           "aaxis": {
            "gridcolor": "white",
            "linecolor": "white",
            "ticks": ""
           },
           "baxis": {
            "gridcolor": "white",
            "linecolor": "white",
            "ticks": ""
           },
           "bgcolor": "#E5ECF6",
           "caxis": {
            "gridcolor": "white",
            "linecolor": "white",
            "ticks": ""
           }
          },
          "title": {
           "x": 0.05
          },
          "xaxis": {
           "automargin": true,
           "gridcolor": "white",
           "linecolor": "white",
           "ticks": "",
           "title": {
            "standoff": 15
           },
           "zerolinecolor": "white",
           "zerolinewidth": 2
          },
          "yaxis": {
           "automargin": true,
           "gridcolor": "white",
           "linecolor": "white",
           "ticks": "",
           "title": {
            "standoff": 15
           },
           "zerolinecolor": "white",
           "zerolinewidth": 2
          }
         }
        },
        "width": 1000,
        "xaxis": {
         "mirror": "allticks",
         "rangemode": "tozero",
         "showgrid": false,
         "showline": true,
         "showticklabels": true,
         "tickmode": "array",
         "ticks": "outside",
         "ticktext": [
          "ALB",
          "UKR",
          "BGR",
          "BLR",
          "GRC",
          "SVK",
          "HRV",
          "LVA",
          "HUN",
          "POL",
          "EST",
          "LTU",
          "CZE",
          "SVN",
          "LUX",
          "AUT",
          "DEU",
          "BEL",
          "FIN",
          "ITA",
          "FRA",
          "GBR",
          "IRL",
          "CHE",
          "NOR",
          "DNK",
          "ISL"
         ],
         "tickvals": [
          5,
          15,
          25,
          35,
          45,
          55,
          65,
          75,
          85,
          95,
          105,
          115,
          125,
          135,
          145,
          155,
          165,
          175,
          185,
          195,
          205,
          215,
          225,
          235,
          245,
          255,
          265
         ],
         "type": "linear",
         "zeroline": false
        },
        "yaxis": {
         "mirror": "allticks",
         "rangemode": "tozero",
         "showgrid": false,
         "showline": true,
         "showticklabels": true,
         "ticks": "outside",
         "type": "linear",
         "zeroline": false
        }
       }
      }
     },
     "metadata": {},
     "output_type": "display_data"
    }
   ],
   "source": [
    "import plotly.figure_factory as ff\n",
    "from scipy.cluster.hierarchy import linkage, ward, fcluster\n",
    "\n",
    "fun = lambda x: linkage(x, \"ward\")\n",
    "fun = lambda x: ward(x)\n",
    "\n",
    "fig = ff.create_dendrogram(df, labels=df.index, linkagefun=fun)\n",
    "fig.update_layout(width=1000, height=800)\n",
    "fig.show()"
   ]
  },
  {
   "cell_type": "code",
   "execution_count": 15,
   "id": "4c73e041",
   "metadata": {},
   "outputs": [],
   "source": [
    "z = ward(df)\n",
    "clusters = fcluster(z, 41000, criterion='distance')\n",
    "\n",
    "df_scaled = pd.DataFrame(df_scaled, index =df.index)\n",
    "df_scaled['clusters'] =  clusters\n",
    "# df_scaled"
   ]
  },
  {
   "cell_type": "markdown",
   "id": "267aeb21",
   "metadata": {},
   "source": [
    "## Średnie wartości ustandaryzowanych cech w klastrach"
   ]
  },
  {
   "cell_type": "code",
   "execution_count": 16,
   "id": "090f454e",
   "metadata": {},
   "outputs": [
    {
     "data": {
      "text/plain": [
       "<matplotlib.legend.Legend at 0x2b290cb02b0>"
      ]
     },
     "execution_count": 16,
     "metadata": {},
     "output_type": "execute_result"
    },
    {
     "data": {
      "image/png": "[encoded data removed]",
      "text/plain": [
       "<Figure size 1440x720 with 1 Axes>"
      ]
     },
     "metadata": {
      "needs_background": "light"
     },
     "output_type": "display_data"
    }
   ],
   "source": [
    "agg = df_scaled.groupby(['clusters']).mean()\n",
    "\n",
    "plt.figure(figsize=(20,10))\n",
    "for index in agg.index:\n",
    "    row = agg.loc[index, :]\n",
    "    plt.plot(row, label=index)\n",
    "    plt.xticks(range(13), labels=list(df.columns))\n",
    "\n",
    "plt.legend()"
   ]
  },
  {
   "cell_type": "code",
   "execution_count": 17,
   "id": "e130c08a",
   "metadata": {},
   "outputs": [],
   "source": [
    "import geopandas\n",
    "\n",
    "world = geopandas.read_file(geopandas.datasets.get_path('naturalearth_lowres'))\n",
    "\n",
    "shape = world[world['name'] == 'France']['geometry'].all()\n",
    "\n",
    "fr_df = pd.Series(['France', 'France'], name='country')\n",
    "fr_df = geopandas.GeoDataFrame(fr_df, geometry=[shape[1], shape[2]])\n",
    "fr_df = fr_df.dissolve(by='country')\n",
    "world.at[world['name'] == 'France', 'geometry'] = fr_df['geometry'].values   \n",
    "\n",
    "europe = world[(world.continent=='Europe') & (~world.iso_a3.isin(['RUS', ]))]\n",
    "europe.loc[europe.name==\"Norway\", 'iso_a3'] = 'NOR'\n",
    "europe.loc[europe.name==\"France\", 'iso_a3'] = 'FRA'\n",
    "df_scaled = df_scaled.reset_index()"
   ]
  },
  {
   "cell_type": "markdown",
   "id": "d09ae152",
   "metadata": {},
   "source": [
    "## Mapa prezentująca rozmieszczenie klastrów"
   ]
  },
  {
   "cell_type": "code",
   "execution_count": 18,
   "id": "882107c1",
   "metadata": {},
   "outputs": [
    {
     "name": "stderr",
     "output_type": "stream",
     "text": [
      "No handles with labels found to put in legend.\n"
     ]
    },
    {
     "data": {
      "image/png": "[encoded data removed]",
      "text/plain": [
       "<Figure size 1440x1440 with 1 Axes>"
      ]
     },
     "metadata": {
      "needs_background": "light"
     },
     "output_type": "display_data"
    }
   ],
   "source": [
    "ax = europe.plot(figsize=(20,20), color='white', linestyle='-', edgecolor='gray')\n",
    "\n",
    "colors = ['limegreen', 'yellowgreen', 'royalblue', 'darkcyan', 'blue']\n",
    "\n",
    "for i in df_scaled.clusters.unique():\n",
    "    tmp = df_scaled[df_scaled.clusters==i].country_code\n",
    "    europe[europe.iso_a3.isin(tmp)].plot(figsize=(20,20), color=colors[i-1], edgecolor='gray', ax=ax, legend=True)\n",
    "\n",
    "_ = plt.legend()\n"
   ]
  },
  {
   "cell_type": "markdown",
   "id": "1ad8c7a8",
   "metadata": {},
   "source": [
    "# Porządkowanie liniowe\n",
    "\n",
    "- adj_income_per_cap S\n",
    "- age_dependency_ratio D\n",
    "- birth_rate_per_1000 S\n",
    "- consumer_price_index D\n",
    "- forest_area_in_percent S\n",
    "- inflation D\n",
    "- life_expectency S\n",
    "- alcohol_consumption D\n",
    "- unemployment_1 D\n",
    "- gpd_growth_in_usd S\n",
    "- gpd_per_capita_ppp S\n",
    "- population_growth S\n",
    "- urban_population_percentage D"
   ]
  },
  {
   "cell_type": "code",
   "execution_count": 19,
   "id": "bbe4f65b",
   "metadata": {},
   "outputs": [
    {
     "data": {
      "text/html": [
       "<div>\n",
       "<style scoped>\n",
       "    .dataframe tbody tr th:only-of-type {\n",
       "        vertical-align: middle;\n",
       "    }\n",
       "\n",
       "    .dataframe tbody tr th {\n",
       "        vertical-align: top;\n",
       "    }\n",
       "\n",
       "    .dataframe thead th {\n",
       "        text-align: right;\n",
       "    }\n",
       "</style>\n",
       "<table border=\"1\" class=\"dataframe\">\n",
       "  <thead>\n",
       "    <tr style=\"text-align: right;\">\n",
       "      <th></th>\n",
       "      <th>adj_income_per_cap</th>\n",
       "      <th>age_dependency_ratio</th>\n",
       "      <th>birth_rate_per_1000</th>\n",
       "      <th>consumer_price_index</th>\n",
       "      <th>forest_area_in_percent</th>\n",
       "      <th>inflation</th>\n",
       "      <th>life_expectency</th>\n",
       "      <th>alcohol_consumption</th>\n",
       "      <th>unemployment_1</th>\n",
       "      <th>gpd_growth_in_usd</th>\n",
       "      <th>gpd_per_capita_ppp</th>\n",
       "      <th>population_growth</th>\n",
       "      <th>urban_population_percentage</th>\n",
       "    </tr>\n",
       "    <tr>\n",
       "      <th>country_code</th>\n",
       "      <th></th>\n",
       "      <th></th>\n",
       "      <th></th>\n",
       "      <th></th>\n",
       "      <th></th>\n",
       "      <th></th>\n",
       "      <th></th>\n",
       "      <th></th>\n",
       "      <th></th>\n",
       "      <th></th>\n",
       "      <th></th>\n",
       "      <th></th>\n",
       "      <th></th>\n",
       "    </tr>\n",
       "  </thead>\n",
       "  <tbody>\n",
       "    <tr>\n",
       "      <th>ALB</th>\n",
       "      <td>4326.330596</td>\n",
       "      <td>45.810037</td>\n",
       "      <td>11.78</td>\n",
       "      <td>117.392740</td>\n",
       "      <td>28.791971</td>\n",
       "      <td>2.028060</td>\n",
       "      <td>78.458000</td>\n",
       "      <td>7.17</td>\n",
       "      <td>12.30</td>\n",
       "      <td>4.071301</td>\n",
       "      <td>13546.481686</td>\n",
       "      <td>-0.246732</td>\n",
       "      <td>60.319</td>\n",
       "    </tr>\n",
       "    <tr>\n",
       "      <th>AUT</th>\n",
       "      <td>41712.201266</td>\n",
       "      <td>49.923940</td>\n",
       "      <td>9.70</td>\n",
       "      <td>116.277887</td>\n",
       "      <td>47.163960</td>\n",
       "      <td>1.998380</td>\n",
       "      <td>81.692683</td>\n",
       "      <td>11.96</td>\n",
       "      <td>4.85</td>\n",
       "      <td>2.580121</td>\n",
       "      <td>57050.351355</td>\n",
       "      <td>0.487072</td>\n",
       "      <td>58.297</td>\n",
       "    </tr>\n",
       "    <tr>\n",
       "      <th>BEL</th>\n",
       "      <td>39098.085540</td>\n",
       "      <td>55.870466</td>\n",
       "      <td>10.40</td>\n",
       "      <td>115.451626</td>\n",
       "      <td>22.764201</td>\n",
       "      <td>2.053165</td>\n",
       "      <td>81.595122</td>\n",
       "      <td>11.08</td>\n",
       "      <td>5.95</td>\n",
       "      <td>1.787920</td>\n",
       "      <td>52668.172441</td>\n",
       "      <td>0.455185</td>\n",
       "      <td>98.001</td>\n",
       "    </tr>\n",
       "    <tr>\n",
       "      <th>BGR</th>\n",
       "      <td>7747.240112</td>\n",
       "      <td>55.321416</td>\n",
       "      <td>8.90</td>\n",
       "      <td>110.974059</td>\n",
       "      <td>35.620855</td>\n",
       "      <td>2.814545</td>\n",
       "      <td>74.963415</td>\n",
       "      <td>12.65</td>\n",
       "      <td>5.21</td>\n",
       "      <td>3.092448</td>\n",
       "      <td>22911.298354</td>\n",
       "      <td>-0.722080</td>\n",
       "      <td>75.008</td>\n",
       "    </tr>\n",
       "    <tr>\n",
       "      <th>BLR</th>\n",
       "      <td>4975.785814</td>\n",
       "      <td>46.436664</td>\n",
       "      <td>9.90</td>\n",
       "      <td>481.390314</td>\n",
       "      <td>43.051532</td>\n",
       "      <td>4.872302</td>\n",
       "      <td>74.175610</td>\n",
       "      <td>11.45</td>\n",
       "      <td>4.76</td>\n",
       "      <td>3.149198</td>\n",
       "      <td>19338.666438</td>\n",
       "      <td>-0.155570</td>\n",
       "      <td>78.595</td>\n",
       "    </tr>\n",
       "    <tr>\n",
       "      <th>CHE</th>\n",
       "      <td>64906.688967</td>\n",
       "      <td>50.453260</td>\n",
       "      <td>10.30</td>\n",
       "      <td>99.186961</td>\n",
       "      <td>31.942227</td>\n",
       "      <td>0.936335</td>\n",
       "      <td>83.753659</td>\n",
       "      <td>11.53</td>\n",
       "      <td>4.71</td>\n",
       "      <td>2.916905</td>\n",
       "      <td>68709.444183</td>\n",
       "      <td>0.736634</td>\n",
       "      <td>73.797</td>\n",
       "    </tr>\n",
       "    <tr>\n",
       "      <th>CZE</th>\n",
       "      <td>17411.918294</td>\n",
       "      <td>53.863862</td>\n",
       "      <td>10.70</td>\n",
       "      <td>113.250314</td>\n",
       "      <td>34.630440</td>\n",
       "      <td>2.149495</td>\n",
       "      <td>79.029268</td>\n",
       "      <td>14.45</td>\n",
       "      <td>2.24</td>\n",
       "      <td>3.198656</td>\n",
       "      <td>41127.254047</td>\n",
       "      <td>0.334427</td>\n",
       "      <td>73.792</td>\n",
       "    </tr>\n",
       "    <tr>\n",
       "      <th>DEU</th>\n",
       "      <td>40263.990413</td>\n",
       "      <td>54.042836</td>\n",
       "      <td>9.50</td>\n",
       "      <td>111.246631</td>\n",
       "      <td>32.683611</td>\n",
       "      <td>1.732168</td>\n",
       "      <td>80.892683</td>\n",
       "      <td>12.91</td>\n",
       "      <td>3.38</td>\n",
       "      <td>1.086025</td>\n",
       "      <td>54954.846748</td>\n",
       "      <td>0.300527</td>\n",
       "      <td>77.312</td>\n",
       "    </tr>\n",
       "    <tr>\n",
       "      <th>DNK</th>\n",
       "      <td>52447.844271</td>\n",
       "      <td>56.914957</td>\n",
       "      <td>10.60</td>\n",
       "      <td>109.517007</td>\n",
       "      <td>15.664000</td>\n",
       "      <td>0.813609</td>\n",
       "      <td>80.953659</td>\n",
       "      <td>10.26</td>\n",
       "      <td>5.13</td>\n",
       "      <td>1.989537</td>\n",
       "      <td>57462.776012</td>\n",
       "      <td>0.495839</td>\n",
       "      <td>87.874</td>\n",
       "    </tr>\n",
       "    <tr>\n",
       "      <th>EST</th>\n",
       "      <td>19074.580625</td>\n",
       "      <td>56.209618</td>\n",
       "      <td>10.90</td>\n",
       "      <td>119.422747</td>\n",
       "      <td>56.093858</td>\n",
       "      <td>3.436327</td>\n",
       "      <td>78.243902</td>\n",
       "      <td>9.23</td>\n",
       "      <td>5.37</td>\n",
       "      <td>4.133820</td>\n",
       "      <td>36326.798230</td>\n",
       "      <td>0.348039</td>\n",
       "      <td>68.880</td>\n",
       "    </tr>\n",
       "    <tr>\n",
       "      <th>FIN</th>\n",
       "      <td>40882.392266</td>\n",
       "      <td>60.942399</td>\n",
       "      <td>8.60</td>\n",
       "      <td>111.192991</td>\n",
       "      <td>73.733219</td>\n",
       "      <td>1.083821</td>\n",
       "      <td>81.734146</td>\n",
       "      <td>10.78</td>\n",
       "      <td>7.36</td>\n",
       "      <td>1.141948</td>\n",
       "      <td>49748.326548</td>\n",
       "      <td>0.132641</td>\n",
       "      <td>85.382</td>\n",
       "    </tr>\n",
       "    <tr>\n",
       "      <th>FRA</th>\n",
       "      <td>34884.968297</td>\n",
       "      <td>61.267145</td>\n",
       "      <td>11.30</td>\n",
       "      <td>108.842316</td>\n",
       "      <td>31.204423</td>\n",
       "      <td>1.850815</td>\n",
       "      <td>82.724390</td>\n",
       "      <td>12.33</td>\n",
       "      <td>9.02</td>\n",
       "      <td>1.865066</td>\n",
       "      <td>46569.019751</td>\n",
       "      <td>0.274452</td>\n",
       "      <td>80.444</td>\n",
       "    </tr>\n",
       "    <tr>\n",
       "      <th>GBR</th>\n",
       "      <td>35834.965275</td>\n",
       "      <td>56.430746</td>\n",
       "      <td>11.00</td>\n",
       "      <td>117.579064</td>\n",
       "      <td>13.115364</td>\n",
       "      <td>2.292840</td>\n",
       "      <td>81.256098</td>\n",
       "      <td>11.45</td>\n",
       "      <td>4.00</td>\n",
       "      <td>1.252591</td>\n",
       "      <td>47145.884098</td>\n",
       "      <td>0.605929</td>\n",
       "      <td>83.398</td>\n",
       "    </tr>\n",
       "    <tr>\n",
       "      <th>GRC</th>\n",
       "      <td>16411.646041</td>\n",
       "      <td>55.585160</td>\n",
       "      <td>8.10</td>\n",
       "      <td>101.692133</td>\n",
       "      <td>30.269977</td>\n",
       "      <td>0.625629</td>\n",
       "      <td>81.787805</td>\n",
       "      <td>10.18</td>\n",
       "      <td>19.29</td>\n",
       "      <td>1.558978</td>\n",
       "      <td>29680.941834</td>\n",
       "      <td>-0.202880</td>\n",
       "      <td>79.058</td>\n",
       "    </tr>\n",
       "    <tr>\n",
       "      <th>HRV</th>\n",
       "      <td>12514.671111</td>\n",
       "      <td>53.745318</td>\n",
       "      <td>9.00</td>\n",
       "      <td>108.974588</td>\n",
       "      <td>34.177593</td>\n",
       "      <td>1.500125</td>\n",
       "      <td>78.070732</td>\n",
       "      <td>9.23</td>\n",
       "      <td>8.43</td>\n",
       "      <td>2.807610</td>\n",
       "      <td>28554.389102</td>\n",
       "      <td>-0.893487</td>\n",
       "      <td>56.947</td>\n",
       "    </tr>\n",
       "    <tr>\n",
       "      <th>HUN</th>\n",
       "      <td>13225.607815</td>\n",
       "      <td>50.533767</td>\n",
       "      <td>9.60</td>\n",
       "      <td>117.712126</td>\n",
       "      <td>22.528161</td>\n",
       "      <td>2.850248</td>\n",
       "      <td>76.065854</td>\n",
       "      <td>11.35</td>\n",
       "      <td>3.71</td>\n",
       "      <td>5.399709</td>\n",
       "      <td>31829.549152</td>\n",
       "      <td>-0.126787</td>\n",
       "      <td>71.351</td>\n",
       "    </tr>\n",
       "    <tr>\n",
       "      <th>IRL</th>\n",
       "      <td>41915.999763</td>\n",
       "      <td>54.493151</td>\n",
       "      <td>12.50</td>\n",
       "      <td>105.592763</td>\n",
       "      <td>11.235593</td>\n",
       "      <td>0.488370</td>\n",
       "      <td>82.256098</td>\n",
       "      <td>12.88</td>\n",
       "      <td>5.74</td>\n",
       "      <td>9.030161</td>\n",
       "      <td>84145.056929</td>\n",
       "      <td>1.238875</td>\n",
       "      <td>63.170</td>\n",
       "    </tr>\n",
       "    <tr>\n",
       "      <th>ISL</th>\n",
       "      <td>58614.264478</td>\n",
       "      <td>52.969213</td>\n",
       "      <td>12.00</td>\n",
       "      <td>125.228966</td>\n",
       "      <td>0.496281</td>\n",
       "      <td>2.682918</td>\n",
       "      <td>82.860976</td>\n",
       "      <td>9.12</td>\n",
       "      <td>2.70</td>\n",
       "      <td>4.892181</td>\n",
       "      <td>57141.925324</td>\n",
       "      <td>2.678143</td>\n",
       "      <td>93.813</td>\n",
       "    </tr>\n",
       "    <tr>\n",
       "      <th>ITA</th>\n",
       "      <td>28888.053412</td>\n",
       "      <td>56.447505</td>\n",
       "      <td>7.30</td>\n",
       "      <td>109.951520</td>\n",
       "      <td>31.768750</td>\n",
       "      <td>1.137488</td>\n",
       "      <td>83.346341</td>\n",
       "      <td>7.84</td>\n",
       "      <td>10.61</td>\n",
       "      <td>0.941737</td>\n",
       "      <td>43111.366552</td>\n",
       "      <td>-0.190064</td>\n",
       "      <td>70.438</td>\n",
       "    </tr>\n",
       "    <tr>\n",
       "      <th>LTU</th>\n",
       "      <td>16198.341394</td>\n",
       "      <td>52.875893</td>\n",
       "      <td>10.00</td>\n",
       "      <td>115.681503</td>\n",
       "      <td>35.095002</td>\n",
       "      <td>2.697928</td>\n",
       "      <td>75.680488</td>\n",
       "      <td>13.22</td>\n",
       "      <td>6.15</td>\n",
       "      <td>3.936846</td>\n",
       "      <td>36346.397529</td>\n",
       "      <td>-0.954190</td>\n",
       "      <td>67.679</td>\n",
       "    </tr>\n",
       "    <tr>\n",
       "      <th>LUX</th>\n",
       "      <td>60224.551281</td>\n",
       "      <td>42.983574</td>\n",
       "      <td>10.30</td>\n",
       "      <td>113.115843</td>\n",
       "      <td>36.502058</td>\n",
       "      <td>1.528195</td>\n",
       "      <td>82.295122</td>\n",
       "      <td>12.94</td>\n",
       "      <td>5.59</td>\n",
       "      <td>3.110836</td>\n",
       "      <td>116644.848056</td>\n",
       "      <td>1.928838</td>\n",
       "      <td>90.981</td>\n",
       "    </tr>\n",
       "    <tr>\n",
       "      <th>LVA</th>\n",
       "      <td>13748.628174</td>\n",
       "      <td>56.346176</td>\n",
       "      <td>10.00</td>\n",
       "      <td>113.661495</td>\n",
       "      <td>54.808343</td>\n",
       "      <td>2.534454</td>\n",
       "      <td>74.782927</td>\n",
       "      <td>12.77</td>\n",
       "      <td>7.41</td>\n",
       "      <td>4.024311</td>\n",
       "      <td>30799.428423</td>\n",
       "      <td>-0.779138</td>\n",
       "      <td>68.142</td>\n",
       "    </tr>\n",
       "    <tr>\n",
       "      <th>NOR</th>\n",
       "      <td>65957.408917</td>\n",
       "      <td>52.901124</td>\n",
       "      <td>10.40</td>\n",
       "      <td>117.717854</td>\n",
       "      <td>33.317279</td>\n",
       "      <td>2.764831</td>\n",
       "      <td>82.758537</td>\n",
       "      <td>7.41</td>\n",
       "      <td>3.80</td>\n",
       "      <td>1.118829</td>\n",
       "      <td>69258.550138</td>\n",
       "      <td>0.660091</td>\n",
       "      <td>82.248</td>\n",
       "    </tr>\n",
       "    <tr>\n",
       "      <th>POL</th>\n",
       "      <td>13031.433841</td>\n",
       "      <td>48.302147</td>\n",
       "      <td>10.20</td>\n",
       "      <td>111.625348</td>\n",
       "      <td>30.894601</td>\n",
       "      <td>1.812952</td>\n",
       "      <td>77.602439</td>\n",
       "      <td>11.71</td>\n",
       "      <td>3.85</td>\n",
       "      <td>5.353705</td>\n",
       "      <td>31978.531150</td>\n",
       "      <td>-0.000200</td>\n",
       "      <td>60.058</td>\n",
       "    </tr>\n",
       "    <tr>\n",
       "      <th>SVK</th>\n",
       "      <td>15834.765118</td>\n",
       "      <td>45.086046</td>\n",
       "      <td>10.60</td>\n",
       "      <td>112.345474</td>\n",
       "      <td>40.056156</td>\n",
       "      <td>2.514037</td>\n",
       "      <td>77.265854</td>\n",
       "      <td>11.14</td>\n",
       "      <td>6.54</td>\n",
       "      <td>3.650123</td>\n",
       "      <td>31557.532704</td>\n",
       "      <td>0.138508</td>\n",
       "      <td>53.726</td>\n",
       "    </tr>\n",
       "    <tr>\n",
       "      <th>SVN</th>\n",
       "      <td>20805.995213</td>\n",
       "      <td>52.972269</td>\n",
       "      <td>9.40</td>\n",
       "      <td>109.269412</td>\n",
       "      <td>61.674381</td>\n",
       "      <td>1.738609</td>\n",
       "      <td>81.378049</td>\n",
       "      <td>11.90</td>\n",
       "      <td>5.11</td>\n",
       "      <td>4.422522</td>\n",
       "      <td>38915.641959</td>\n",
       "      <td>0.362584</td>\n",
       "      <td>54.541</td>\n",
       "    </tr>\n",
       "    <tr>\n",
       "      <th>UKR</th>\n",
       "      <td>2782.196609</td>\n",
       "      <td>47.595158</td>\n",
       "      <td>8.70</td>\n",
       "      <td>261.068834</td>\n",
       "      <td>16.703486</td>\n",
       "      <td>10.951856</td>\n",
       "      <td>71.582683</td>\n",
       "      <td>8.32</td>\n",
       "      <td>8.80</td>\n",
       "      <td>3.405296</td>\n",
       "      <td>12634.235554</td>\n",
       "      <td>-0.466426</td>\n",
       "      <td>69.352</td>\n",
       "    </tr>\n",
       "  </tbody>\n",
       "</table>\n",
       "</div>"
      ],
      "text/plain": [
       "              adj_income_per_cap  age_dependency_ratio  birth_rate_per_1000  \\\n",
       "country_code                                                                  \n",
       "ALB                  4326.330596             45.810037                11.78   \n",
       "AUT                 41712.201266             49.923940                 9.70   \n",
       "BEL                 39098.085540             55.870466                10.40   \n",
       "BGR                  7747.240112             55.321416                 8.90   \n",
       "BLR                  4975.785814             46.436664                 9.90   \n",
       "CHE                 64906.688967             50.453260                10.30   \n",
       "CZE                 17411.918294             53.863862                10.70   \n",
       "DEU                 40263.990413             54.042836                 9.50   \n",
       "DNK                 52447.844271             56.914957                10.60   \n",
       "EST                 19074.580625             56.209618                10.90   \n",
       "FIN                 40882.392266             60.942399                 8.60   \n",
       "FRA                 34884.968297             61.267145                11.30   \n",
       "GBR                 35834.965275             56.430746                11.00   \n",
       "GRC                 16411.646041             55.585160                 8.10   \n",
       "HRV                 12514.671111             53.745318                 9.00   \n",
       "HUN                 13225.607815             50.533767                 9.60   \n",
       "IRL                 41915.999763             54.493151                12.50   \n",
       "ISL                 58614.264478             52.969213                12.00   \n",
       "ITA                 28888.053412             56.447505                 7.30   \n",
       "LTU                 16198.341394             52.875893                10.00   \n",
       "LUX                 60224.551281             42.983574                10.30   \n",
       "LVA                 13748.628174             56.346176                10.00   \n",
       "NOR                 65957.408917             52.901124                10.40   \n",
       "POL                 13031.433841             48.302147                10.20   \n",
       "SVK                 15834.765118             45.086046                10.60   \n",
       "SVN                 20805.995213             52.972269                 9.40   \n",
       "UKR                  2782.196609             47.595158                 8.70   \n",
       "\n",
       "              consumer_price_index  forest_area_in_percent  inflation  \\\n",
       "country_code                                                            \n",
       "ALB                     117.392740               28.791971   2.028060   \n",
       "AUT                     116.277887               47.163960   1.998380   \n",
       "BEL                     115.451626               22.764201   2.053165   \n",
       "BGR                     110.974059               35.620855   2.814545   \n",
       "BLR                     481.390314               43.051532   4.872302   \n",
       "CHE                      99.186961               31.942227   0.936335   \n",
       "CZE                     113.250314               34.630440   2.149495   \n",
       "DEU                     111.246631               32.683611   1.732168   \n",
       "DNK                     109.517007               15.664000   0.813609   \n",
       "EST                     119.422747               56.093858   3.436327   \n",
       "FIN                     111.192991               73.733219   1.083821   \n",
       "FRA                     108.842316               31.204423   1.850815   \n",
       "GBR                     117.579064               13.115364   2.292840   \n",
       "GRC                     101.692133               30.269977   0.625629   \n",
       "HRV                     108.974588               34.177593   1.500125   \n",
       "HUN                     117.712126               22.528161   2.850248   \n",
       "IRL                     105.592763               11.235593   0.488370   \n",
       "ISL                     125.228966                0.496281   2.682918   \n",
       "ITA                     109.951520               31.768750   1.137488   \n",
       "LTU                     115.681503               35.095002   2.697928   \n",
       "LUX                     113.115843               36.502058   1.528195   \n",
       "LVA                     113.661495               54.808343   2.534454   \n",
       "NOR                     117.717854               33.317279   2.764831   \n",
       "POL                     111.625348               30.894601   1.812952   \n",
       "SVK                     112.345474               40.056156   2.514037   \n",
       "SVN                     109.269412               61.674381   1.738609   \n",
       "UKR                     261.068834               16.703486  10.951856   \n",
       "\n",
       "              life_expectency  alcohol_consumption  unemployment_1  \\\n",
       "country_code                                                         \n",
       "ALB                 78.458000                 7.17           12.30   \n",
       "AUT                 81.692683                11.96            4.85   \n",
       "BEL                 81.595122                11.08            5.95   \n",
       "BGR                 74.963415                12.65            5.21   \n",
       "BLR                 74.175610                11.45            4.76   \n",
       "CHE                 83.753659                11.53            4.71   \n",
       "CZE                 79.029268                14.45            2.24   \n",
       "DEU                 80.892683                12.91            3.38   \n",
       "DNK                 80.953659                10.26            5.13   \n",
       "EST                 78.243902                 9.23            5.37   \n",
       "FIN                 81.734146                10.78            7.36   \n",
       "FRA                 82.724390                12.33            9.02   \n",
       "GBR                 81.256098                11.45            4.00   \n",
       "GRC                 81.787805                10.18           19.29   \n",
       "HRV                 78.070732                 9.23            8.43   \n",
       "HUN                 76.065854                11.35            3.71   \n",
       "IRL                 82.256098                12.88            5.74   \n",
       "ISL                 82.860976                 9.12            2.70   \n",
       "ITA                 83.346341                 7.84           10.61   \n",
       "LTU                 75.680488                13.22            6.15   \n",
       "LUX                 82.295122                12.94            5.59   \n",
       "LVA                 74.782927                12.77            7.41   \n",
       "NOR                 82.758537                 7.41            3.80   \n",
       "POL                 77.602439                11.71            3.85   \n",
       "SVK                 77.265854                11.14            6.54   \n",
       "SVN                 81.378049                11.90            5.11   \n",
       "UKR                 71.582683                 8.32            8.80   \n",
       "\n",
       "              gpd_growth_in_usd  gpd_per_capita_ppp  population_growth  \\\n",
       "country_code                                                             \n",
       "ALB                    4.071301        13546.481686          -0.246732   \n",
       "AUT                    2.580121        57050.351355           0.487072   \n",
       "BEL                    1.787920        52668.172441           0.455185   \n",
       "BGR                    3.092448        22911.298354          -0.722080   \n",
       "BLR                    3.149198        19338.666438          -0.155570   \n",
       "CHE                    2.916905        68709.444183           0.736634   \n",
       "CZE                    3.198656        41127.254047           0.334427   \n",
       "DEU                    1.086025        54954.846748           0.300527   \n",
       "DNK                    1.989537        57462.776012           0.495839   \n",
       "EST                    4.133820        36326.798230           0.348039   \n",
       "FIN                    1.141948        49748.326548           0.132641   \n",
       "FRA                    1.865066        46569.019751           0.274452   \n",
       "GBR                    1.252591        47145.884098           0.605929   \n",
       "GRC                    1.558978        29680.941834          -0.202880   \n",
       "HRV                    2.807610        28554.389102          -0.893487   \n",
       "HUN                    5.399709        31829.549152          -0.126787   \n",
       "IRL                    9.030161        84145.056929           1.238875   \n",
       "ISL                    4.892181        57141.925324           2.678143   \n",
       "ITA                    0.941737        43111.366552          -0.190064   \n",
       "LTU                    3.936846        36346.397529          -0.954190   \n",
       "LUX                    3.110836       116644.848056           1.928838   \n",
       "LVA                    4.024311        30799.428423          -0.779138   \n",
       "NOR                    1.118829        69258.550138           0.660091   \n",
       "POL                    5.353705        31978.531150          -0.000200   \n",
       "SVK                    3.650123        31557.532704           0.138508   \n",
       "SVN                    4.422522        38915.641959           0.362584   \n",
       "UKR                    3.405296        12634.235554          -0.466426   \n",
       "\n",
       "              urban_population_percentage  \n",
       "country_code                               \n",
       "ALB                                60.319  \n",
       "AUT                                58.297  \n",
       "BEL                                98.001  \n",
       "BGR                                75.008  \n",
       "BLR                                78.595  \n",
       "CHE                                73.797  \n",
       "CZE                                73.792  \n",
       "DEU                                77.312  \n",
       "DNK                                87.874  \n",
       "EST                                68.880  \n",
       "FIN                                85.382  \n",
       "FRA                                80.444  \n",
       "GBR                                83.398  \n",
       "GRC                                79.058  \n",
       "HRV                                56.947  \n",
       "HUN                                71.351  \n",
       "IRL                                63.170  \n",
       "ISL                                93.813  \n",
       "ITA                                70.438  \n",
       "LTU                                67.679  \n",
       "LUX                                90.981  \n",
       "LVA                                68.142  \n",
       "NOR                                82.248  \n",
       "POL                                60.058  \n",
       "SVK                                53.726  \n",
       "SVN                                54.541  \n",
       "UKR                                69.352  "
      ]
     },
     "execution_count": 19,
     "metadata": {},
     "output_type": "execute_result"
    }
   ],
   "source": [
    "df"
   ]
  },
  {
   "cell_type": "code",
   "execution_count": 20,
   "id": "abf58c0d",
   "metadata": {},
   "outputs": [],
   "source": [
    "wsp_zmienn = df.std() / df.mean()\n",
    "wsp_zmienn = wsp_zmienn[wsp_zmienn > 0.1]\n",
    "\n",
    "#usuwamy cechy z zbyt małą zmiennością\n",
    "df = df[wsp_zmienn.index]"
   ]
  },
  {
   "cell_type": "code",
   "execution_count": 21,
   "id": "4f690ed0",
   "metadata": {},
   "outputs": [],
   "source": [
    "wsp_zmienn = df.std() / df.mean()\n",
    "sum_wsp_zmienn = wsp_zmienn.sum()\n",
    "\n",
    "weights = wsp_zmienn * sum_wsp_zmienn\n",
    "df_scaled = (df - df.mean()) / df.std()\n",
    "\n",
    "wzorzec = df_scaled.max()\n",
    "antywzorzec = df_scaled.min()\n",
    "\n",
    "is_s = np.array([True, True, False, True, False, False, False, True, True, True, False])\n",
    "\n",
    "wzorzec_2 = np.where(is_s, wzorzec, 0) + np.where(~is_s, antywzorzec, 0)\n",
    "d0 = np.sqrt(((wzorzec - antywzorzec)**2).sum())\n",
    "y = (df_scaled - wzorzec_2)**2\n",
    "d0s = y.sum(axis=1)**(1/2)\n",
    "mi = 1 - (d0s / d0)\n",
    "mi = mi.sort_values(ascending=False)\n"
   ]
  },
  {
   "cell_type": "code",
   "execution_count": 22,
   "id": "7bdb8420",
   "metadata": {},
   "outputs": [
    {
     "data": {
      "text/plain": [
       "<AxesSubplot:ylabel='country_code'>"
      ]
     },
     "execution_count": 22,
     "metadata": {},
     "output_type": "execute_result"
    },
    {
     "data": {
      "image/png": "[encoded data removed]",
      "text/plain": [
       "<Figure size 1440x1440 with 2 Axes>"
      ]
     },
     "metadata": {
      "needs_background": "light"
     },
     "output_type": "display_data"
    }
   ],
   "source": [
    "plt.figure(figsize=(20,20))\n",
    "\n",
    "sns.heatmap(pd.DataFrame(mi), cmap='Spectral', annot=np.array(range(1, 28)).reshape(27,1))"
   ]
  },
  {
   "cell_type": "markdown",
   "id": "6f5d119e",
   "metadata": {},
   "source": [
    "## Na podstawie wyników metody Hellwiga uzywając wspórzędnej wzroca stwiedzamy że najszczęśliwsi ludzie żyją w Irlandii, Luxemburgu oraz Szwajcarii. Najmniejszcześliwi ludzie żyją w Ukrainie, Grecji oraz Bułgarii"
   ]
  },
  {
   "cell_type": "markdown",
   "id": "61a8cf86",
   "metadata": {},
   "source": []
  }
 ],
 "metadata": {
  "kernelspec": {
   "display_name": "Python 3 (ipykernel)",
   "language": "python",
   "name": "python3"
  },
  "language_info": {
   "codemirror_mode": {
    "name": "ipython",
    "version": 3
   },
   "file_extension": ".py",
   "mimetype": "text/x-python",
   "name": "python",
   "nbconvert_exporter": "python",
   "pygments_lexer": "ipython3",
   "version": "3.9.7"
  }
 },
 "nbformat": 4,
 "nbformat_minor": 5
}
